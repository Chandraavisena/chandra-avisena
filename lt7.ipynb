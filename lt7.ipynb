{
  "nbformat": 4,
  "nbformat_minor": 0,
  "metadata": {
    "colab": {
      "provenance": [],
      "authorship_tag": "ABX9TyNEBVIR4xwoFjI0DWFlGcI+",
      "include_colab_link": true
    },
    "kernelspec": {
      "name": "python3",
      "display_name": "Python 3"
    },
    "language_info": {
      "name": "python"
    }
  },
  "cells": [
    {
      "cell_type": "markdown",
      "metadata": {
        "id": "view-in-github",
        "colab_type": "text"
      },
      "source": [
        "<a href=\"https://colab.research.google.com/github/Chandraavisena/chandra-avisena/blob/main/lt7.ipynb\" target=\"_parent\"><img src=\"https://colab.research.google.com/assets/colab-badge.svg\" alt=\"Open In Colab\"/></a>"
      ]
    },
    {
      "cell_type": "code",
      "source": [
        "a = [\n",
        "  [2, 4],\n",
        "  [3, 1],\n",
        "]\n",
        "\n",
        "b = [\n",
        "    [7, 2],\n",
        "    [5, 6],\n",
        "]\n",
        "\n",
        "c = []\n",
        "\n",
        "for i in range(0, len(a)):\n",
        "  row=[]\n",
        "  for j in range(0, len(b[0])):\n",
        "    total = 0\n",
        "    for k in range(0, len(a)):\n",
        "      total = total + (a[i][k]) * b[k][j]\n",
        "    row.append(total)\n",
        "  c.append(row)\n",
        "\n",
        "for i in range(0, len(c)):\n",
        "  for j in range(0, len(c[0])):\n",
        "    print (c[i][j], end=' ')\n",
        "  print()"
      ],
      "metadata": {
        "colab": {
          "base_uri": "https://localhost:8080/"
        },
        "id": "WbuhMFbiKhmK",
        "outputId": "0a5455a3-6410-449c-8c50-fead008a1031"
      },
      "execution_count": 23,
      "outputs": [
        {
          "output_type": "stream",
          "name": "stdout",
          "text": [
            "34 28 \n",
            "26 12 \n"
          ]
        }
      ]
    },
    {
      "cell_type": "code",
      "source": [
        "def faktorial(n):\n",
        "  if(n==1):\n",
        "    return n\n",
        "  return faktorial(n-1)*n\n",
        "\n",
        "n = int(input(\"Masukan nilai n: \")) #input nilai\n",
        "print(f\"Hasil dari {n}!\", faktorial(n))"
      ],
      "metadata": {
        "colab": {
          "base_uri": "https://localhost:8080/"
        },
        "id": "zbmj-rmrOeYF",
        "outputId": "0e289a86-6166-4f26-84fc-e92a05aa936a"
      },
      "execution_count": 24,
      "outputs": [
        {
          "output_type": "stream",
          "name": "stdout",
          "text": [
            "Masukan nilai n: 4\n",
            "Hasil dari 4! 24\n"
          ]
        }
      ]
    },
    {
      "cell_type": "code",
      "source": [
        "def nilai_minimal(deret_bilangan):\n",
        "  nilai_terkecil = deret_bilangan[0]\n",
        "\n",
        "  for nilai in deret_bilangan:\n",
        "    if nilai < nilai_terkecil:\n",
        "      nilai_terkecil = nilai\n",
        "  return nilai_terkecil"
      ],
      "metadata": {
        "id": "t4nyOpzsPKFB"
      },
      "execution_count": 37,
      "outputs": []
    },
    {
      "cell_type": "code",
      "source": [
        "a = [3, 20, 100, -35, 50]\n",
        "\n",
        "print(a)\n",
        "print('Nilai terkecil:', nilai_minimal(a))"
      ],
      "metadata": {
        "colab": {
          "base_uri": "https://localhost:8080/"
        },
        "id": "sGLLh5vaQhbJ",
        "outputId": "93ca6487-e584-4533-b4d5-ef541f9be0c8"
      },
      "execution_count": 38,
      "outputs": [
        {
          "output_type": "stream",
          "name": "stdout",
          "text": [
            "[3, 20, 100, -35, 50]\n",
            "Nilai terkecil: -35\n"
          ]
        }
      ]
    },
    {
      "cell_type": "code",
      "source": [
        "def nilai_maksimal(deret_bilangan):\n",
        "  nilai_terbesar = deret_bilangan[0]\n",
        "\n",
        "  for nilai in deret_bilangan:\n",
        "    if nilai > nilai_terbesar:\n",
        "      nilai_terbesar = nilai\n",
        "\n",
        "  return nilai_terbesar"
      ],
      "metadata": {
        "id": "CMusoU4rRz4E"
      },
      "execution_count": 39,
      "outputs": []
    },
    {
      "cell_type": "code",
      "source": [
        "a = [3, 20, 100, -35, 50]\n",
        "\n",
        "print(a)\n",
        "print('Nilai terbesar:', nilai_maksimal(a))"
      ],
      "metadata": {
        "colab": {
          "base_uri": "https://localhost:8080/"
        },
        "id": "TtteddOuSC8T",
        "outputId": "d9a2a9e7-8578-4b4d-ad68-7ed6a3f8d856"
      },
      "execution_count": 40,
      "outputs": [
        {
          "output_type": "stream",
          "name": "stdout",
          "text": [
            "[3, 20, 100, -35, 50]\n",
            "Nilai terbesar: 100\n"
          ]
        }
      ]
    },
    {
      "cell_type": "code",
      "source": [
        "def sequentialSearch(alist, item):\n",
        "  pos = 0\n",
        "  found = False\n",
        "\n",
        "  while pos < len(alist) and not found:\n",
        "    if alist[pos] == item:\n",
        "      found = True\n",
        "    else:\n",
        "      pos = pos+1\n",
        "  return found\n",
        "\n",
        "teslist = [1, 2, 32, 8, 17, 19, 42, 13, 0]\n",
        "print(sequentialSearch(teslist, 3))\n",
        "print(sequentialSearch(teslist, 2))"
      ],
      "metadata": {
        "colab": {
          "base_uri": "https://localhost:8080/"
        },
        "id": "Ca20yWxmNM5T",
        "outputId": "ba612570-9bca-4fc6-d4bc-576557fef787"
      },
      "execution_count": 45,
      "outputs": [
        {
          "output_type": "stream",
          "name": "stdout",
          "text": [
            "False\n",
            "True\n"
          ]
        }
      ]
    },
    {
      "cell_type": "code",
      "source": [
        "def bubbleSort(alist):\n",
        "  for passnum in range(len(alist)-1,0,-1):\n",
        "    for i in range(passnum):\n",
        "      if alist[i]>alist[i+1]:\n",
        "        tempt = alist[i]\n",
        "        alist[i] = alist[i+1]\n",
        "        alist[i+1] = tempt\n",
        "\n",
        "alist = [54, 26, 93, 17, 77, 31, 44, 55, 20]\n",
        "bubbleSort(alist)\n",
        "print(alist)"
      ],
      "metadata": {
        "colab": {
          "base_uri": "https://localhost:8080/"
        },
        "id": "QkrAmZbHWp5k",
        "outputId": "8d9c8bf6-cf28-45f0-c9ba-fbd9e0fe7beb"
      },
      "execution_count": 43,
      "outputs": [
        {
          "output_type": "stream",
          "name": "stdout",
          "text": [
            "[17, 20, 26, 31, 44, 54, 55, 77, 93]\n"
          ]
        }
      ]
    },
    {
      "cell_type": "code",
      "source": [
        "x = int(input('Input satu angka bulat: '))\n",
        "\n",
        "angka_prima = True\n",
        "if((x == 0) or (x == 1)):\n",
        "  angka_prima = False\n",
        "else:\n",
        "  for i in range(2,(x//2)):\n",
        "    if((x % i) == 0):\n",
        "      angka_prima = False\n",
        "      break\n",
        "\n",
        "if(angka_prima):\n",
        "  print(x,'adalah angka prima')\n",
        "else:\n",
        "  print(x,'bukan angka prima')"
      ],
      "metadata": {
        "colab": {
          "base_uri": "https://localhost:8080/"
        },
        "id": "WNpF1rC-Y5Au",
        "outputId": "ad93695a-6e26-4bec-cd7d-d1a2fb0a9f5d"
      },
      "execution_count": 46,
      "outputs": [
        {
          "output_type": "stream",
          "name": "stdout",
          "text": [
            "Input satu angka bulat: 7\n",
            "7 adalah angka prima\n"
          ]
        }
      ]
    },
    {
      "cell_type": "code",
      "source": [
        "def polynomial_py(a, x):\n",
        "  result = 0\n",
        "\n",
        "  for n, a_n in enumerate(a):\n",
        "    x_power_n = 1\n",
        "    for i in range(n):\n",
        "      x_power_n *= x\n",
        "    result += a_n * x_power_n\n",
        "  return result"
      ],
      "metadata": {
        "id": "s6AhznEpaKiu"
      },
      "execution_count": 52,
      "outputs": []
    },
    {
      "cell_type": "code",
      "source": [
        "a = [1,2,0,3]\n",
        "x = 1.5\n",
        "print(polynomial_py(a, x)) #14.125"
      ],
      "metadata": {
        "colab": {
          "base_uri": "https://localhost:8080/"
        },
        "id": "VzgKVSQtbKgJ",
        "outputId": "8325e574-3fc8-4734-95ab-af3b6454f9ff"
      },
      "execution_count": 53,
      "outputs": [
        {
          "output_type": "stream",
          "name": "stdout",
          "text": [
            "14.125\n"
          ]
        }
      ]
    },
    {
      "cell_type": "code",
      "source": [
        "from math import sqrt\n",
        "from random import randint\n",
        "titik = []\n",
        "n = int(input('Masukan jumlah titik yang ingin anda cari jaraknya: '))\n",
        "for i in range (0,n):\n",
        "  titik.append([randint(0,100), randint(0,100)])\n",
        "print('Titik:\\n', titik)\n",
        "def hitungjarak(lis):\n",
        "  lisjarak = []\n",
        "  for i in range(0,len(lis)-1):\n",
        "    for j in range(i+1, len(lis)):\n",
        "      jarak = sqrt((lis[i][0]- lis[j][0])**2 + (lis[i][1]-lis[j][1])**2)\n",
        "      lisjarak.append(jarak)\n",
        "      print('Titik: ',lis[i], 'Titik: ',lis[j],':', jarak)\n",
        "  return min(lisjarak)\n",
        "print('Jarak terdekat:\\n',hitungjarak(titik))"
      ],
      "metadata": {
        "colab": {
          "base_uri": "https://localhost:8080/"
        },
        "id": "8vizO0qMcCRu",
        "outputId": "bd398c07-fdd8-4c6c-a0a2-ea3987fbc121"
      },
      "execution_count": 56,
      "outputs": [
        {
          "output_type": "stream",
          "name": "stdout",
          "text": [
            "Masukan jumlah titik yang ingin anda cari jaraknya: 3\n",
            "Titik:\n",
            " [[67, 57], [84, 33], [38, 45]]\n",
            "Titik:  [67, 57] Titik:  [84, 33] : 29.410882339705484\n",
            "Titik:  [67, 57] Titik:  [38, 45] : 31.38470965295043\n",
            "Titik:  [84, 33] Titik:  [38, 45] : 47.53945729601885\n",
            "Jarak terdekat:\n",
            " 29.410882339705484\n"
          ]
        }
      ]
    },
    {
      "cell_type": "code",
      "source": [
        "def find_maximum(lst):\n",
        "  max = None\n",
        "  for el in lst:\n",
        "    if max == None or el > max:\n",
        "      max = el\n",
        "  return max\n",
        "test_scores = [88,93,75,100,80,67,92,90,83]\n",
        "print(find_maximum(test_scores))"
      ],
      "metadata": {
        "colab": {
          "base_uri": "https://localhost:8080/"
        },
        "id": "-cpywQMzm8PV",
        "outputId": "9bf82bf5-0d5c-4f8b-cf87-973c77d534d1"
      },
      "execution_count": 57,
      "outputs": [
        {
          "output_type": "stream",
          "name": "stdout",
          "text": [
            "100\n"
          ]
        }
      ]
    },
    {
      "cell_type": "code",
      "source": [
        "def bubbleSort(alist):\n",
        "  for passnum in range(len(alist)-1,0,-1):\n",
        "    for i in range(passnum):\n",
        "      if alist[i]>alist[i+1]:\n",
        "        tempt = alist[i]\n",
        "        alist[i] = alist[i+1]\n",
        "        alist[i+1] = tempt\n",
        "\n",
        "alist = [54,26,93,17,77,31,44,55,20]\n",
        "bubbleSort(alist)\n",
        "print(alist)"
      ],
      "metadata": {
        "colab": {
          "base_uri": "https://localhost:8080/"
        },
        "id": "URZCQZwPnmJX",
        "outputId": "46fd57d7-92e5-4a2b-8908-7af5f3e00588"
      },
      "execution_count": 58,
      "outputs": [
        {
          "output_type": "stream",
          "name": "stdout",
          "text": [
            "[17, 20, 26, 31, 44, 54, 55, 77, 93]\n"
          ]
        }
      ]
    },
    {
      "cell_type": "code",
      "source": [
        "def Sequential_Search(dlist, item):\n",
        "  pos = 0\n",
        "  found = False\n",
        "\n",
        "  while pos < len(dlist) and not found:\n",
        "    if dlist[pos] == item:\n",
        "      found = True\n",
        "    else:\n",
        "      pos = pos + 1\n",
        "  return found, pos"
      ],
      "metadata": {
        "id": "3_-DcwAgod8a"
      },
      "execution_count": 59,
      "outputs": []
    },
    {
      "cell_type": "code",
      "source": [
        "print(Sequential_Search([11,23,58,31,56,77,43,12,65,19],31))"
      ],
      "metadata": {
        "colab": {
          "base_uri": "https://localhost:8080/"
        },
        "id": "AJKjLqJpprsT",
        "outputId": "8b055b45-7418-474c-8fd9-c22b41157b02"
      },
      "execution_count": 60,
      "outputs": [
        {
          "output_type": "stream",
          "name": "stdout",
          "text": [
            "(True, 3)\n"
          ]
        }
      ]
    }
  ]
}