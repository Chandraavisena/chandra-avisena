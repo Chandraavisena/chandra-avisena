{
  "nbformat": 4,
  "nbformat_minor": 0,
  "metadata": {
    "colab": {
      "provenance": [],
      "authorship_tag": "ABX9TyM4+ynHkdYkoeAsHd8mx4Pq",
      "include_colab_link": true
    },
    "kernelspec": {
      "name": "python3",
      "display_name": "Python 3"
    },
    "language_info": {
      "name": "python"
    }
  },
  "cells": [
    {
      "cell_type": "markdown",
      "metadata": {
        "id": "view-in-github",
        "colab_type": "text"
      },
      "source": [
        "<a href=\"https://colab.research.google.com/github/Chandraavisena/chandra-avisena/blob/main/pertemuan11.ipynb\" target=\"_parent\"><img src=\"https://colab.research.google.com/assets/colab-badge.svg\" alt=\"Open In Colab\"/></a>"
      ]
    },
    {
      "cell_type": "code",
      "execution_count": null,
      "metadata": {
        "id": "eYb-k7RhRjOS"
      },
      "outputs": [],
      "source": [
        "# a-----b\n",
        "# /     /\n",
        "# /     /\n",
        "# c-----d----e"
      ]
    },
    {
      "cell_type": "code",
      "source": [
        "# create the dictionary with graph elements\n",
        "graph = {\"a\" : [\"b\",\"c\"],\n",
        "         \"b\" : [\"a\",\"d\"],\n",
        "         \"c\" : [\"a\",\"d\"],\n",
        "         \"d\" : [\"e\"],\n",
        "         \"e\" : [\"d\"],\n",
        "         }\n",
        "\n",
        "# print the graph\n",
        "print(graph)"
      ],
      "metadata": {
        "colab": {
          "base_uri": "https://localhost:8080/"
        },
        "id": "JZyoe94KXPJW",
        "outputId": "f750dc06-8976-4b3e-ad19-a22810f5d41c"
      },
      "execution_count": null,
      "outputs": [
        {
          "output_type": "stream",
          "name": "stdout",
          "text": [
            "{'a': ['b', 'c'], 'b': ['a', 'd'], 'c': ['a', 'd'], 'd': ['e'], 'e': ['d']}\n"
          ]
        }
      ]
    },
    {
      "cell_type": "code",
      "source": [
        "# t----u----v\n",
        "# |         |\n",
        "# w---------x\n",
        "# |         |\n",
        "# z         s"
      ],
      "metadata": {
        "id": "Xv-QMtmiYMz2"
      },
      "execution_count": null,
      "outputs": []
    },
    {
      "cell_type": "code",
      "source": [
        "graph = {\"t\" : [\"u\",\"w\"],\n",
        "         \"u\" : [\"v\"],\n",
        "         \"v\" : [\"x\"],\n",
        "         \"w\" : [\"x\",\"z\"],\n",
        "         \"x\" : [\"s\"],\n",
        "         \"z\" : [\"w\"],\n",
        "         \"s\" : [\"x\"],\n",
        "        }\n",
        "\n",
        "# print the graph\n",
        "print(graph)"
      ],
      "metadata": {
        "colab": {
          "base_uri": "https://localhost:8080/"
        },
        "id": "i94gxZtLZG41",
        "outputId": "f8e2fab3-903a-4387-b7c5-db39b8ac7460"
      },
      "execution_count": null,
      "outputs": [
        {
          "output_type": "stream",
          "name": "stdout",
          "text": [
            "{'t': ['u', 'w'], 'u': ['v'], 'v': ['x'], 'w': ['x', 'z'], 'x': ['s'], 'z': ['w'], 's': ['x']}\n"
          ]
        }
      ]
    },
    {
      "cell_type": "code",
      "source": [
        "# r----o----m\n",
        "# |    |    |\n",
        "# l----p----n"
      ],
      "metadata": {
        "id": "KLoJkYf7bKG1"
      },
      "execution_count": null,
      "outputs": []
    },
    {
      "cell_type": "code",
      "source": [
        "graph = {\"r\" : [\"o\",\"m\"],\n",
        "         \"o\" : [\"m\",\"p\"],\n",
        "         \"m\" : [\"n\"],\n",
        "         \"p\" : [\"n\"],\n",
        "         \"l\" : [\"p\"],\n",
        "         \"n\" : [\"p\"],\n",
        "}\n",
        "\n",
        "# print the graph\n",
        "print(graph)"
      ],
      "metadata": {
        "colab": {
          "base_uri": "https://localhost:8080/"
        },
        "id": "RnJ5Wwb2bidM",
        "outputId": "1866985a-b6ea-49b9-9c1b-ccb8ca9cd515"
      },
      "execution_count": null,
      "outputs": [
        {
          "output_type": "stream",
          "name": "stdout",
          "text": [
            "{'r': ['o', 'm'], 'o': ['m', 'p'], 'm': ['n'], 'p': ['n'], 'l': ['p'], 'n': ['p']}\n"
          ]
        }
      ]
    },
    {
      "cell_type": "code",
      "source": [
        "class Graph:\n",
        "  def __init__(self,gdict=None):\n",
        "    if gdict is None:\n",
        "      gdict = {}\n",
        "    self.gdict = gdict\n",
        "  # get the keys of the dicitionary\n",
        "  def getVertices(self):\n",
        "    return list (self.gdict.keys())\n",
        "\n",
        "# create dicitionary with graph elements\n",
        "graph_elements ={\n",
        "    \"a\": [\"b\",\"c\"],\n",
        "    \"b\": [\"a\",\"d\"],\n",
        "    \"c\": [\"a\",\"d\"],\n",
        "    \"d\": [\"e\"],\n",
        "    \"e\": [\"d\"],\n",
        "}\n",
        "# create an instance of the graph class and pass the graph_elements\n",
        "g = Graph(graph_elements)\n",
        "# print the vertices by calling the getVertices method with parentheses\n",
        "print(g.getVertices())"
      ],
      "metadata": {
        "colab": {
          "base_uri": "https://localhost:8080/"
        },
        "id": "3kHmRL4EcUO1",
        "outputId": "e6ce58b6-30de-4d04-a38a-8fbeb3642a69"
      },
      "execution_count": null,
      "outputs": [
        {
          "output_type": "stream",
          "name": "stdout",
          "text": [
            "['a', 'b', 'c', 'd', 'e']\n"
          ]
        }
      ]
    },
    {
      "cell_type": "code",
      "source": [
        "class Graph:\n",
        "  def __init__(self,gdict=None):\n",
        "    if gdict is None:\n",
        "      gdict = {}\n",
        "    self.gdict = gdict\n",
        "  # get the keys of the dicitionary\n",
        "  def getVertices(self):\n",
        "    return list (self.gdict.keys())\n",
        "\n",
        "# create dicitionary with graph elements\n",
        "graph_elements ={\"t\" : [\"u\",\"w\"],\n",
        "         \"u\" : [\"v\"],\n",
        "         \"v\" : [\"x\"],\n",
        "         \"w\" : [\"x\",\"z\"],\n",
        "         \"x\" : [\"s\"],\n",
        "         \"z\" : [\"w\"],\n",
        "         \"s\" : [\"x\"],\n",
        "        }\n",
        "# create an instance of the graph class and pass the graph_elements\n",
        "g = Graph(graph_elements)\n",
        "# print the vertices by calling the getVertices method with parentheses\n",
        "print(g.getVertices())"
      ],
      "metadata": {
        "colab": {
          "base_uri": "https://localhost:8080/"
        },
        "id": "j9zJrDwwhW9N",
        "outputId": "b45d9711-47b1-463f-8bd6-37a88b1c6d39"
      },
      "execution_count": null,
      "outputs": [
        {
          "output_type": "stream",
          "name": "stdout",
          "text": [
            "['t', 'u', 'v', 'w', 'x', 'z', 's']\n"
          ]
        }
      ]
    },
    {
      "cell_type": "code",
      "source": [
        "class Graph:\n",
        "  def __init__(self,gdict=None):\n",
        "    if gdict is None:\n",
        "      gdict = {}\n",
        "    self.gdict = gdict\n",
        "  # get the keys of the dicitionary\n",
        "  def getVertices(self):\n",
        "    return list (self.gdict.keys())\n",
        "\n",
        "# create dicitionary with graph elements\n",
        "graph_elements ={\"r\" : [\"o\",\"m\"],\n",
        "         \"o\" : [\"m\",\"p\"],\n",
        "         \"m\" : [\"n\"],\n",
        "         \"p\" : [\"n\"],\n",
        "         \"l\" : [\"p\"],\n",
        "         \"n\" : [\"p\"],\n",
        "        }\n",
        "# create an instance of the graph class and pass the graph_elements\n",
        "g = Graph(graph_elements)\n",
        "# print the vertices by calling the getVertices method with parentheses\n",
        "print(g.getVertices())"
      ],
      "metadata": {
        "colab": {
          "base_uri": "https://localhost:8080/"
        },
        "id": "QILLf6g5hwrm",
        "outputId": "26cb0c91-90ae-4c87-c7c8-8aa05496fab4"
      },
      "execution_count": null,
      "outputs": [
        {
          "output_type": "stream",
          "name": "stdout",
          "text": [
            "['r', 'o', 'm', 'p', 'l', 'n']\n"
          ]
        }
      ]
    },
    {
      "cell_type": "code",
      "source": [
        "class graph:\n",
        "  def __init__(self,gdict=None):\n",
        "    if gdict is None:\n",
        "      gdict = {}\n",
        "    self.gdict = gdict\n",
        "\n",
        "  def edges(self):\n",
        "    return self.findedges()\n",
        "\n",
        "# find the distinct lis of edges\n",
        "  def findedges(self):\n",
        "    edgename = []\n",
        "    for vrtx in self.gdict:\n",
        "      for nxtvrtx in self.gdict[vrtx]:\n",
        "        if {nxtvrtx, vrtx} not in edgename:\n",
        "            edgename.append({vrtx, nxtvrtx})\n",
        "    return edgename\n",
        "\n",
        "# create the dicitionary with graph elements\n",
        "graph_elements = {\n",
        "    \"a\": [\"b\",\"c\"],\n",
        "    \"b\": [\"a\",\"d\"],\n",
        "    \"c\": [\"a\",\"d\"],\n",
        "    \"d\": [\"e\"],\n",
        "    \"e\": [\"d\"],\n",
        "}\n",
        "\n",
        "g = graph(graph_elements)\n",
        "print(g.edges())"
      ],
      "metadata": {
        "colab": {
          "base_uri": "https://localhost:8080/"
        },
        "id": "l7s4gTnUii7N",
        "outputId": "c369b858-3b94-4e55-aa10-b6279b8b0d01"
      },
      "execution_count": null,
      "outputs": [
        {
          "output_type": "stream",
          "name": "stdout",
          "text": [
            "[{'a', 'b'}, {'a', 'c'}, {'b', 'd'}, {'c', 'd'}, {'e', 'd'}]\n"
          ]
        }
      ]
    },
    {
      "cell_type": "code",
      "source": [
        "class graph:\n",
        "  def __init__(self,gdict=None):\n",
        "    if gdict is None:\n",
        "      gdict = {}\n",
        "    self.gdict = gdict\n",
        "\n",
        "  def edges(self):\n",
        "    return self.findedges()\n",
        "\n",
        "# find the distinct lis of edges\n",
        "  def findedges(self):\n",
        "    edgename = []\n",
        "    for vrtx in self.gdict:\n",
        "      for nxtvrtx in self.gdict[vrtx]:\n",
        "        if {nxtvrtx, vrtx} not in edgename:\n",
        "            edgename.append({vrtx, nxtvrtx})\n",
        "    return edgename\n",
        "\n",
        "# create the dicitionary with graph elements\n",
        "graph_elements = {\n",
        "         \"r\" : [\"o\",\"m\"],\n",
        "         \"o\" : [\"m\",\"p\"],\n",
        "         \"m\" : [\"n\"],\n",
        "         \"p\" : [\"n\"],\n",
        "         \"l\" : [\"p\"],\n",
        "         \"n\" : [\"p\"],\n",
        "        }\n",
        "g = graph(graph_elements)\n",
        "print(g.edges())"
      ],
      "metadata": {
        "colab": {
          "base_uri": "https://localhost:8080/"
        },
        "id": "cfU27RYwmMwj",
        "outputId": "3f7bafc3-d230-478b-ac6d-4e2d224f68a0"
      },
      "execution_count": null,
      "outputs": [
        {
          "output_type": "stream",
          "name": "stdout",
          "text": [
            "[{'o', 'r'}, {'m', 'r'}, {'o', 'm'}, {'o', 'p'}, {'n', 'm'}, {'n', 'p'}, {'p', 'l'}]\n"
          ]
        }
      ]
    },
    {
      "cell_type": "code",
      "source": [
        "class graph:\n",
        "  def __init__(self,gdict=None):\n",
        "    if gdict is None:\n",
        "      gdict = {}\n",
        "    self.gdict = gdict\n",
        "\n",
        "  def edges(self):\n",
        "    return self.findedges()\n",
        "\n",
        "# find the distinct lis of edges\n",
        "  def findedges(self):\n",
        "    edgename = []\n",
        "    for vrtx in self.gdict:\n",
        "      for nxtvrtx in self.gdict[vrtx]:\n",
        "        if {nxtvrtx, vrtx} not in edgename:\n",
        "            edgename.append({vrtx, nxtvrtx})\n",
        "    return edgename\n",
        "\n",
        "# create the dicitionary with graph elements\n",
        "graph_elements = {\"t\" : [\"u\",\"w\"],\n",
        "         \"u\" : [\"v\"],\n",
        "         \"v\" : [\"x\"],\n",
        "         \"w\" : [\"x\",\"z\"],\n",
        "         \"x\" : [\"s\"],\n",
        "         \"z\" : [\"w\"],\n",
        "         \"s\" : [\"x\"],\n",
        "        }\n",
        "g = graph(graph_elements)\n",
        "print(g.edges())"
      ],
      "metadata": {
        "colab": {
          "base_uri": "https://localhost:8080/"
        },
        "id": "XnqC272rpoar",
        "outputId": "337ba955-57f6-45c8-e565-59cb3ea23b6a"
      },
      "execution_count": null,
      "outputs": [
        {
          "output_type": "stream",
          "name": "stdout",
          "text": [
            "[{'u', 't'}, {'t', 'w'}, {'u', 'v'}, {'x', 'v'}, {'x', 'w'}, {'z', 'w'}, {'x', 's'}]\n"
          ]
        }
      ]
    },
    {
      "cell_type": "code",
      "source": [
        "class graph:\n",
        "  def __init__(self,gdict=None):\n",
        "    if gdict is None:\n",
        "      gdict = {}\n",
        "    self.gdict = gdict\n",
        "\n",
        "  def getVertices(self):\n",
        "    return list(self.gdict.keys())\n",
        "\n",
        "# add the vertex as a key\n",
        "  def addVertex(self, vrtx):\n",
        "    if vrtx not in self.gdict:\n",
        "      self.gdict[vrtx] = []\n",
        "\n",
        "# create the dicitionary with graph elements\n",
        "graph_elements = {\n",
        "    \"a\": [\"b\",\"c\"],\n",
        "    \"b\": [\"a\",\"d\"],\n",
        "    \"c\": [\"a\",\"d\"],\n",
        "    \"d\": [\"e\"],\n",
        "    \"e\": [\"d\"],\n",
        "}\n",
        "\n",
        "g = graph(graph_elements)\n",
        "g.addVertex(\"f\")\n",
        "print(g.getVertices())"
      ],
      "metadata": {
        "colab": {
          "base_uri": "https://localhost:8080/"
        },
        "id": "p-bxWgsRp1FM",
        "outputId": "5a5299a3-9f3d-4f64-bec4-0854c1bf7a00"
      },
      "execution_count": null,
      "outputs": [
        {
          "output_type": "stream",
          "name": "stdout",
          "text": [
            "['a', 'b', 'c', 'd', 'e', 'f']\n"
          ]
        }
      ]
    },
    {
      "cell_type": "code",
      "source": [
        "class graph:\n",
        "  def __init__(self,gdict=None):\n",
        "    if gdict is None:\n",
        "      gdict = {}\n",
        "    self.gdict = gdict\n",
        "\n",
        "  def getVertices(self):\n",
        "    return list(self.gdict.keys())\n",
        "\n",
        "# add the vertex as a key\n",
        "  def addVertex(self, vrtx):\n",
        "    if vrtx not in self.gdict:\n",
        "      self.gdict[vrtx] = []\n",
        "\n",
        "# create the dicitionary with graph elements\n",
        "graph_elements = {\"t\" : [\"u\",\"w\"],\n",
        "         \"u\" : [\"v\"],\n",
        "         \"v\" : [\"x\"],\n",
        "         \"w\" : [\"x\",\"z\"],\n",
        "         \"x\" : [\"s\"],\n",
        "         \"z\" : [\"w\"],\n",
        "         \"s\" : [\"x\"],\n",
        "        }\n",
        "g = graph(graph_elements)\n",
        "g.addVertex(\"f\")\n",
        "print(g.getVertices())"
      ],
      "metadata": {
        "colab": {
          "base_uri": "https://localhost:8080/"
        },
        "id": "LOJhTqEVsxpE",
        "outputId": "39542649-d248-463c-fb73-de8ec7dfedc5"
      },
      "execution_count": null,
      "outputs": [
        {
          "output_type": "stream",
          "name": "stdout",
          "text": [
            "['t', 'u', 'v', 'w', 'x', 'z', 's', 'f']\n"
          ]
        }
      ]
    },
    {
      "cell_type": "code",
      "source": [
        "class graph:\n",
        "  def __init__(self,gdict=None):\n",
        "    if gdict is None:\n",
        "      gdict = {}\n",
        "    self.gdict = gdict\n",
        "\n",
        "  def getVertices(self):\n",
        "    return list(self.gdict.keys())\n",
        "\n",
        "# add the vertex as a key\n",
        "  def addVertex(self, vrtx):\n",
        "    if vrtx not in self.gdict:\n",
        "      self.gdict[vrtx] = []\n",
        "\n",
        "# create the dicitionary with graph elements\n",
        "graph_elements = {\"r\" : [\"o\",\"m\"],\n",
        "         \"o\" : [\"m\",\"p\"],\n",
        "         \"m\" : [\"n\"],\n",
        "         \"p\" : [\"n\"],\n",
        "         \"l\" : [\"p\"],\n",
        "         \"n\" : [\"p\"],\n",
        "        }\n",
        "g = graph(graph_elements)\n",
        "g.addVertex(\"f\")\n",
        "print(g.getVertices())"
      ],
      "metadata": {
        "colab": {
          "base_uri": "https://localhost:8080/"
        },
        "id": "T2KRsMbGs6ZD",
        "outputId": "aded30a3-e3b1-48d6-e5c3-25b8cbeb34ba"
      },
      "execution_count": null,
      "outputs": [
        {
          "output_type": "stream",
          "name": "stdout",
          "text": [
            "['r', 'o', 'm', 'p', 'l', 'n', 'f']\n"
          ]
        }
      ]
    },
    {
      "cell_type": "code",
      "source": [
        "class graph:\n",
        "  def __init__(self,gdict=None):\n",
        "    if gdict is None:\n",
        "      gdict = {}\n",
        "    self.gdict = gdict\n",
        "\n",
        "  def edges(self):\n",
        "    return self.findedges()\n",
        "\n",
        "# add the new edge\n",
        "  def AddEdge(self, edge):\n",
        "    edge = set(edge)\n",
        "    (vrtx1, vrtx2) = tuple(edge)\n",
        "    if vrtx1 in self.gdict:\n",
        "      self.gdict[vrtx1].append(vrtx2)\n",
        "    else:\n",
        "      self.gdict[vrtx1] = [vrtx2]\n",
        "\n",
        "# list the edge names\n",
        "  def findedges(self):\n",
        "    edgename = []\n",
        "    for vrtx in self.gdict:\n",
        "        for nxtvrtx in self.gdict[vrtx]:\n",
        "          if {nxtvrtx, vrtx} not in edgename:\n",
        "            edgename.append({vrtx, nxtvrtx})\n",
        "    return edgename\n",
        "\n",
        "# create the dicitionary with graph elements\n",
        "graph_elements = {\n",
        "    \"a\": [\"b\",\"c\"],\n",
        "    \"b\": [\"a\",\"d\"],\n",
        "    \"c\": [\"a\",\"d\"],\n",
        "    \"d\": [\"e\"],\n",
        "    \"e\": [\"d\"],\n",
        "}\n",
        "\n",
        "g = graph(graph_elements)\n",
        "g.AddEdge({'a','e'})\n",
        "g.AddEdge({'a','c'})\n",
        "print(g.edges())"
      ],
      "metadata": {
        "colab": {
          "base_uri": "https://localhost:8080/"
        },
        "id": "BUTieySGtDZK",
        "outputId": "798d9f77-351b-4981-a506-0f9c5fd25b66"
      },
      "execution_count": null,
      "outputs": [
        {
          "output_type": "stream",
          "name": "stdout",
          "text": [
            "[{'a', 'b'}, {'a', 'c'}, {'a', 'e'}, {'b', 'd'}, {'c', 'd'}, {'e', 'd'}]\n"
          ]
        }
      ]
    },
    {
      "cell_type": "code",
      "source": [
        "class graph:\n",
        "  def __init__(self,gdict=None):\n",
        "    if gdict is None:\n",
        "      gdict = {}\n",
        "    self.gdict = gdict\n",
        "\n",
        "  def edges(self):\n",
        "    return self.findedges()\n",
        "\n",
        "# add the new edge\n",
        "  def AddEdge(self, edge):\n",
        "    edge = set(edge)\n",
        "    (vrtx1, vrtx2) = tuple(edge)\n",
        "    if vrtx1 in self.gdict:\n",
        "      self.gdict[vrtx1].append(vrtx2)\n",
        "    else:\n",
        "      self.gdict[vrtx1] = [vrtx2]\n",
        "\n",
        "# list the edge names\n",
        "  def findedges(self):\n",
        "    edgename = []\n",
        "    for vrtx in self.gdict:\n",
        "        for nxtvrtx in self.gdict[vrtx]:\n",
        "          if {nxtvrtx, vrtx} not in edgename:\n",
        "            edgename.append({vrtx, nxtvrtx})\n",
        "    return edgename\n",
        "\n",
        "# create the dicitionary with graph elements\n",
        "graph_elements = {\"t\" : [\"u\",\"w\"],\n",
        "         \"u\" : [\"v\"],\n",
        "         \"v\" : [\"x\"],\n",
        "         \"w\" : [\"x\",\"z\"],\n",
        "         \"x\" : [\"s\"],\n",
        "         \"z\" : [\"w\"],\n",
        "         \"s\" : [\"x\"],\n",
        "        }\n",
        "\n",
        "g = graph(graph_elements)\n",
        "g.AddEdge({'a','e'})\n",
        "g.AddEdge({'a','c'})\n",
        "print(g.edges())"
      ],
      "metadata": {
        "colab": {
          "base_uri": "https://localhost:8080/"
        },
        "id": "bVmwwDgjxg67",
        "outputId": "4fff6faf-37dd-492d-e4aa-1c27a146306a"
      },
      "execution_count": null,
      "outputs": [
        {
          "output_type": "stream",
          "name": "stdout",
          "text": [
            "[{'u', 't'}, {'t', 'w'}, {'u', 'v'}, {'x', 'v'}, {'x', 'w'}, {'z', 'w'}, {'x', 's'}, {'a', 'e'}, {'a', 'c'}]\n"
          ]
        }
      ]
    },
    {
      "cell_type": "code",
      "source": [
        "class graph:\n",
        "  def __init__(self,gdict=None):\n",
        "    if gdict is None:\n",
        "      gdict = {}\n",
        "    self.gdict = gdict\n",
        "\n",
        "  def edges(self):\n",
        "    return self.findedges()\n",
        "\n",
        "# add the new edge\n",
        "  def AddEdge(self, edge):\n",
        "    edge = set(edge)\n",
        "    (vrtx1, vrtx2) = tuple(edge)\n",
        "    if vrtx1 in self.gdict:\n",
        "      self.gdict[vrtx1].append(vrtx2)\n",
        "    else:\n",
        "      self.gdict[vrtx1] = [vrtx2]\n",
        "\n",
        "# list the edge names\n",
        "  def findedges(self):\n",
        "    edgename = []\n",
        "    for vrtx in self.gdict:\n",
        "        for nxtvrtx in self.gdict[vrtx]:\n",
        "          if {nxtvrtx, vrtx} not in edgename:\n",
        "            edgename.append({vrtx, nxtvrtx})\n",
        "    return edgename\n",
        "\n",
        "# create the dicitionary with graph elements\n",
        "graph_elements = {\"r\" : [\"o\",\"m\"],\n",
        "         \"o\" : [\"m\",\"p\"],\n",
        "         \"m\" : [\"n\"],\n",
        "         \"p\" : [\"n\"],\n",
        "         \"l\" : [\"p\"],\n",
        "         \"n\" : [\"p\"],\n",
        "        }\n",
        "g = graph(graph_elements)\n",
        "g.AddEdge({'a','e'})\n",
        "g.AddEdge({'a','c'})\n",
        "print(g.edges())"
      ],
      "metadata": {
        "colab": {
          "base_uri": "https://localhost:8080/"
        },
        "id": "93tl3pYFyEwq",
        "outputId": "e40977e1-983b-4163-e108-056245c42e45"
      },
      "execution_count": null,
      "outputs": [
        {
          "output_type": "stream",
          "name": "stdout",
          "text": [
            "[{'o', 'r'}, {'m', 'r'}, {'o', 'm'}, {'o', 'p'}, {'n', 'm'}, {'n', 'p'}, {'p', 'l'}, {'a', 'e'}, {'a', 'c'}]\n"
          ]
        }
      ]
    }
  ]
}