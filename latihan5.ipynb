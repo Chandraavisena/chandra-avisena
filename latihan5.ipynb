{
  "nbformat": 4,
  "nbformat_minor": 0,
  "metadata": {
    "colab": {
      "provenance": [],
      "toc_visible": true,
      "authorship_tag": "ABX9TyPcBmJD3caS+fJcTujxuwND",
      "include_colab_link": true
    },
    "kernelspec": {
      "name": "python3",
      "display_name": "Python 3"
    },
    "language_info": {
      "name": "python"
    }
  },
  "cells": [
    {
      "cell_type": "markdown",
      "metadata": {
        "id": "view-in-github",
        "colab_type": "text"
      },
      "source": [
        "<a href=\"https://colab.research.google.com/github/Chandraavisena/chandra-avisena/blob/main/latihan5.ipynb\" target=\"_parent\"><img src=\"https://colab.research.google.com/assets/colab-badge.svg\" alt=\"Open In Colab\"/></a>"
      ]
    },
    {
      "cell_type": "code",
      "execution_count": 12,
      "metadata": {
        "id": "fKKTaKw_7ZSI"
      },
      "outputs": [],
      "source": [
        "#hitung inversi\n",
        "def countInversion(arr):\n",
        "  result=0\n",
        "  for i in range(len(arr)):\n",
        "    for j in range(i+1,len(arr)):\n",
        "      if arr[i]>arr[j]:\n",
        "        result+=1\n",
        "  return result"
      ]
    },
    {
      "cell_type": "code",
      "source": [
        "arr=[21,70,36,14,25]"
      ],
      "metadata": {
        "id": "qdp9FS_1-gqZ"
      },
      "execution_count": 13,
      "outputs": []
    },
    {
      "cell_type": "code",
      "source": [
        "result=countInversion(arr)\n",
        "print(result)"
      ],
      "metadata": {
        "colab": {
          "base_uri": "https://localhost:8080/"
        },
        "id": "ZYgIXrrR-jfA",
        "outputId": "5a634831-ac49-40d9-b8b4-801d4eb18150"
      },
      "execution_count": 14,
      "outputs": [
        {
          "output_type": "stream",
          "name": "stdout",
          "text": [
            "6\n"
          ]
        }
      ]
    },
    {
      "cell_type": "code",
      "source": [
        "def countInversion(arr):\n",
        "  icount=0\n",
        "  if len(arr)<=1:\n",
        "    return icount\n",
        "\n",
        "  mid=len(arr)//2\n",
        "  left=arr[:mid]\n",
        "  right=arr[mid:]\n",
        "  icount+=countInversion(left)\n",
        "  icount+=countInversion(right)\n",
        "  i=j=k=0\n",
        "\n",
        "#print(left)\n",
        "#print(right)\n",
        "while i<len(left) and j<len(right):\n",
        "  if left[i]<right[j]:\n",
        "    arr[k]=left[i]\n",
        "    i+=1\n",
        "  else:\n",
        "    arr[k]=right[j]\n",
        "    j+=1\n",
        "    icount+=(mid-i)\n",
        "    k+=1\n",
        "while i<len(left):\n",
        "  arr[k]=left[i]\n",
        "  i+=1\n",
        "  k+=1\n",
        "while j<len(right):\n",
        "  arr[k]=right[j]\n",
        "  j+=1\n",
        "  k+=1\n",
        "\n",
        "return icount"
      ],
      "metadata": {
        "colab": {
          "base_uri": "https://localhost:8080/",
          "height": 245
        },
        "id": "P85I9Wyt_O5g",
        "outputId": "3e0cc88b-eea4-4879-df2c-78841588aead"
      },
      "execution_count": 24,
      "outputs": [
        {
          "output_type": "error",
          "ename": "NameError",
          "evalue": "ignored",
          "traceback": [
            "\u001b[0;31m---------------------------------------------------------------------------\u001b[0m",
            "\u001b[0;31mNameError\u001b[0m                                 Traceback (most recent call last)",
            "\u001b[0;32m<ipython-input-24-8e744fa458d9>\u001b[0m in \u001b[0;36m<cell line: 28>\u001b[0;34m()\u001b[0m\n\u001b[1;32m     26\u001b[0m   \u001b[0mi\u001b[0m\u001b[0;34m+=\u001b[0m\u001b[0;36m1\u001b[0m\u001b[0;34m\u001b[0m\u001b[0;34m\u001b[0m\u001b[0m\n\u001b[1;32m     27\u001b[0m   \u001b[0mk\u001b[0m\u001b[0;34m+=\u001b[0m\u001b[0;36m1\u001b[0m\u001b[0;34m\u001b[0m\u001b[0;34m\u001b[0m\u001b[0m\n\u001b[0;32m---> 28\u001b[0;31m \u001b[0;32mwhile\u001b[0m \u001b[0mj\u001b[0m\u001b[0;34m<\u001b[0m\u001b[0mlen\u001b[0m\u001b[0;34m(\u001b[0m\u001b[0mright\u001b[0m\u001b[0;34m)\u001b[0m\u001b[0;34m:\u001b[0m\u001b[0;34m\u001b[0m\u001b[0;34m\u001b[0m\u001b[0m\n\u001b[0m\u001b[1;32m     29\u001b[0m   \u001b[0marr\u001b[0m\u001b[0;34m[\u001b[0m\u001b[0mk\u001b[0m\u001b[0;34m]\u001b[0m\u001b[0;34m=\u001b[0m\u001b[0mright\u001b[0m\u001b[0;34m[\u001b[0m\u001b[0mj\u001b[0m\u001b[0;34m]\u001b[0m\u001b[0;34m\u001b[0m\u001b[0;34m\u001b[0m\u001b[0m\n\u001b[1;32m     30\u001b[0m   \u001b[0mj\u001b[0m\u001b[0;34m+=\u001b[0m\u001b[0;36m1\u001b[0m\u001b[0;34m\u001b[0m\u001b[0;34m\u001b[0m\u001b[0m\n",
            "\u001b[0;31mNameError\u001b[0m: name 'j' is not defined"
          ]
        }
      ]
    },
    {
      "cell_type": "code",
      "source": [
        "arr=[1, 20, 6, 4, 5]"
      ],
      "metadata": {
        "id": "GW15PjK3BRsH"
      },
      "execution_count": null,
      "outputs": []
    },
    {
      "cell_type": "code",
      "source": [
        "result=countInversion(arr)\n",
        "print(result)"
      ],
      "metadata": {
        "colab": {
          "base_uri": "https://localhost:8080/"
        },
        "id": "fBvZI-YPBR6W",
        "outputId": "aa8e7db0-0c2e-4749-bc90-0ed688825d0e"
      },
      "execution_count": 21,
      "outputs": [
        {
          "output_type": "stream",
          "name": "stdout",
          "text": [
            "8\n"
          ]
        }
      ]
    },
    {
      "cell_type": "code",
      "source": [
        "# total semua element list\n",
        "arr=[3,7,5,2,1,8,9]\n",
        "total=0\n",
        "for i in range(len(arr)):\n",
        "  total=total+arr[i];\n",
        "\n",
        "print(total)"
      ],
      "metadata": {
        "colab": {
          "base_uri": "https://localhost:8080/"
        },
        "id": "OEUHVUz8FRvN",
        "outputId": "d698ba0e-8873-4558-909e-05c01724dd70"
      },
      "execution_count": 20,
      "outputs": [
        {
          "output_type": "stream",
          "name": "stdout",
          "text": [
            "35\n"
          ]
        }
      ]
    },
    {
      "cell_type": "code",
      "source": [
        "def divideAndConquer_Max(arr, ind, len):\n",
        "  maximum= -1;\n",
        "\n",
        "  if(ind>=len - 2):\n",
        "    if(arr[ind]>arr[ind + 1]):\n",
        "      return arr[ind];\n",
        "    else:\n",
        "      return arr[ind+1];\n",
        "\n",
        "  maximum=divideAndConquer_Max(arr, ind+1, len);\n",
        "\n",
        "  if (arr[ind]>maximum):\n",
        "    return arr[ind];\n",
        "  else:\n",
        "    return maximum;\n",
        "\n",
        "def divideAndConquer_Min(arr, ind, len):\n",
        "  minimum=0\n",
        "  if(ind>=len - 2):\n",
        "    if(arr[ind]<arr[ind + 1]):\n",
        "      return arr[ind];\n",
        "    else:\n",
        "      return arr[ind+1];\n",
        "\n",
        "  minimum=divideAndConquer_Min(arr, ind+1, len);\n",
        "\n",
        "  if (arr[ind]<minimum):\n",
        "    return arr[ind];\n",
        "  else:\n",
        "    return minimum;\n",
        "\n",
        "if __name__ =='__main__':\n",
        "  minimum, maximum=0, -1;\n",
        "\n",
        "  # array intialization\n",
        "  arr=[4,12,23,9,21,1,35,2,24];\n",
        "\n",
        "  maximum=divideAndConquer_Max(arr, 0, 9);\n",
        "  minimum=divideAndConquer_Min(arr, 0, 9);\n",
        "\n",
        "  print(\"The minimum number in the array is: \", minimum);\n",
        "  print(\"The maximum number in the array is: \", maximum);"
      ],
      "metadata": {
        "colab": {
          "base_uri": "https://localhost:8080/"
        },
        "id": "XMmP30dJBSSn",
        "outputId": "ca35ade0-8c57-44ae-a619-38524e521a98"
      },
      "execution_count": 19,
      "outputs": [
        {
          "output_type": "stream",
          "name": "stdout",
          "text": [
            "The minimum number in the array is:  1\n",
            "The maximum number in the array is:  35\n"
          ]
        }
      ]
    },
    {
      "cell_type": "code",
      "source": [
        "# MergeSort in python\n",
        "def mergeSort(array):\n",
        "  if len(array) > 1:\n",
        "\n",
        "    # r is the point where the array is divided into two subarrays\n",
        "    r = len(array)//2\n",
        "    L = array[:r]\n",
        "    M = array[r:]\n",
        "\n",
        "    # Sort the two halves\n",
        "    mergeSort(L)\n",
        "    mergeSort(M)\n",
        "\n",
        "    i = j = k = 0\n",
        "\n",
        "    # Until we reach either end of either L or M, pick larger among\n",
        "    # elements L and M and place them in the correct position at A[p..r]\n",
        "    while i < len(L) and j < len(M):\n",
        "      if L[i] < M[j]:\n",
        "        array[k] = L[i]\n",
        "        i += 1\n",
        "      else:\n",
        "        array[k] = M[j]\n",
        "        j += 1\n",
        "      k += 1\n",
        "\n",
        "    # When we run out of elements in either L or M,\n",
        "    # pick up the remaining elements and put in A[p..r]\n",
        "    while i < len(L):\n",
        "        array[k] = L[i]\n",
        "        i += 1\n",
        "        k += 1\n",
        "\n",
        "    while j < len(M):\n",
        "        array[k] = M[j]\n",
        "        j += 1\n",
        "        k += 1"
      ],
      "metadata": {
        "id": "L-6urfBnM_kK"
      },
      "execution_count": 60,
      "outputs": []
    },
    {
      "cell_type": "code",
      "source": [
        "# Print the array\n",
        "def printList(array):\n",
        "  for i in range(len(array)):\n",
        "    print(array[i], end=\" \")\n",
        "  print()\n",
        "\n",
        "# Driver program\n",
        "if  __name__  == '__main__':\n",
        "  array = [4,12,23,9,21,1,35,2,24]\n",
        "\n",
        "  mergeSort(array)\n",
        "\n",
        "  print(\"Sorted array is: \")\n",
        "  printList(array)"
      ],
      "metadata": {
        "colab": {
          "base_uri": "https://localhost:8080/"
        },
        "id": "oYsCWoUhUDFt",
        "outputId": "902faf6c-906c-4e4e-d91c-fc937a1622a1"
      },
      "execution_count": 61,
      "outputs": [
        {
          "output_type": "stream",
          "name": "stdout",
          "text": [
            "Sorted array is: \n",
            "1 2 4 9 12 21 23 24 35 \n"
          ]
        }
      ]
    },
    {
      "cell_type": "code",
      "source": [
        "# Function to find the partition position\n",
        "def partition(array, low, high):\n",
        "\n",
        "    # choose the rightmost element as pivot\n",
        "    pivot = array[high]\n",
        "\n",
        "    # pointer for greater element\n",
        "    i = low - 1\n",
        "\n",
        "    # traverse through all elements\n",
        "    # compare each element with pivot\n",
        "    for j in range(low, high):\n",
        "        if array[j] <= pivot:\n",
        "\n",
        "            # If element smaller than pivot is found\n",
        "            # swap it with the greater element pointed by i\n",
        "            i = i + 1\n",
        "\n",
        "            # Swapping element at i with element at j\n",
        "            (array[i], array[j]) = (array[j], array[i])\n",
        "\n",
        "    # Swap the pivot element with the greater element specified by i\n",
        "    (array[i + 1], array[high]) = (array[high], array[i + 1])\n",
        "\n",
        "    # Return the position from where partition is done\n",
        "    return i + 1\n"
      ],
      "metadata": {
        "id": "_kBSVBaZVTQ9"
      },
      "execution_count": 95,
      "outputs": []
    },
    {
      "cell_type": "code",
      "source": [
        "# function to perform quicksort\n",
        "def quickSort(array, low, high):\n",
        "    if low < high:\n",
        "\n",
        "        # Find pivot element such that\n",
        "        # element smaller than pivot are on the left\n",
        "        # element greater than pivot are on the right\n",
        "        pi = partition(array, low, high)\n",
        "\n",
        "        # Recursive call on the left of pivat\n",
        "        quickSort(array, low, pi - 1)\n",
        "\n",
        "        # Recursive call on the right of pivot\n",
        "        quickSort (array, pi + 1, high)"
      ],
      "metadata": {
        "id": "1PowRlUpfWGC"
      },
      "execution_count": 96,
      "outputs": []
    },
    {
      "cell_type": "code",
      "source": [
        "data = [4,12,23,9,21,1,35,2,24]\n",
        "print(\"Unsorted Array\")\n",
        "print(data)\n",
        "\n",
        "size = len(data)\n",
        "\n",
        "quickSort(data, 0, size - 1)\n",
        "\n",
        "print('Sorted Array in Ascending Order: ')\n",
        "print(data)"
      ],
      "metadata": {
        "colab": {
          "base_uri": "https://localhost:8080/"
        },
        "id": "X5SDoFnodTAY",
        "outputId": "607a8fc8-8685-4fa0-df73-4dec46c144a5"
      },
      "execution_count": 97,
      "outputs": [
        {
          "output_type": "stream",
          "name": "stdout",
          "text": [
            "Unsorted Array\n",
            "[4, 12, 23, 9, 21, 1, 35, 2, 24]\n",
            "Sorted Array in Ascending Order: \n",
            "[1, 2, 4, 9, 12, 21, 23, 24, 35]\n"
          ]
        }
      ]
    },
    {
      "cell_type": "code",
      "source": [
        "#tanpa divide and conquer\n",
        "def maxSubSum(arr):\n",
        "  max_so_far=0\n",
        "  max_ending_here=0\n",
        "  for i in range(len(arr)):\n",
        "    max_ending_here+=arr[i]\n",
        "    if max_ending_here>max_so_far:\n",
        "        max_so_far=max_ending_here\n",
        "    if max_ending_here<0:\n",
        "        max_ending_here=0\n",
        "  return max_so_far"
      ],
      "metadata": {
        "id": "QW78EZTagAZv"
      },
      "execution_count": 101,
      "outputs": []
    },
    {
      "cell_type": "code",
      "source": [
        "arr=[-2, -5, 6, -2, -3, 1, 5, -6]\n",
        "result=maxSubSum(arr)\n",
        "print(result)"
      ],
      "metadata": {
        "colab": {
          "base_uri": "https://localhost:8080/"
        },
        "id": "dxBhWr_9hDnu",
        "outputId": "aede11a8-c60b-4fc1-ca11-e4529b98fcbc"
      },
      "execution_count": 102,
      "outputs": [
        {
          "output_type": "stream",
          "name": "stdout",
          "text": [
            "7\n"
          ]
        }
      ]
    },
    {
      "cell_type": "code",
      "source": [
        "# Using Divide and Conquer\n",
        "\n",
        "def maxCrossingSum(arr,low,mid,high):\n",
        "    result=0; leftSum=float('-infinity')\n",
        "    for i in range(mid,low-1,-1):\n",
        "        result+=arr[i]\n",
        "        if result>leftSum:\n",
        "            leftSum=result\n",
        "    result=0; rightSum=float('-infinity')\n",
        "    for i in range(mid+1,high+1):\n",
        "        result+=arr[i]\n",
        "        if result>rightSum:\n",
        "            rightSum=result\n",
        "    return leftSum+rightSum\n",
        "\n",
        "def maxSum(arr,low,high):\n",
        "    if low==high:\n",
        "        return arr[low]\n",
        "    mid=(low+high)//2\n",
        "    return max(maxSum(arr,low,mid), maxSum(arr,mid+1,high),maxCrossingSum(arr,low,mid,high))"
      ],
      "metadata": {
        "id": "ybI97_gbiR0l"
      },
      "execution_count": 106,
      "outputs": []
    },
    {
      "cell_type": "code",
      "source": [
        "arr=[-2, -5, 6, -2, -3, 1, 5, -6]\n",
        "result=maxSum(arr,0,len(arr)-1)\n",
        "print(result)"
      ],
      "metadata": {
        "colab": {
          "base_uri": "https://localhost:8080/"
        },
        "id": "ijR8VdFakQj0",
        "outputId": "f6dd0c7f-d0d2-4fcc-dd25-4a53b0a467b3"
      },
      "execution_count": 107,
      "outputs": [
        {
          "output_type": "stream",
          "name": "stdout",
          "text": [
            "7\n"
          ]
        }
      ]
    }
  ]
}