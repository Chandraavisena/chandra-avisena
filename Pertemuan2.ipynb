{
  "nbformat": 4,
  "nbformat_minor": 0,
  "metadata": {
    "colab": {
      "provenance": [],
      "authorship_tag": "ABX9TyNvUpfIsWbTxVpD5YNQLvO/",
      "include_colab_link": true
    },
    "kernelspec": {
      "name": "python3",
      "display_name": "Python 3"
    },
    "language_info": {
      "name": "python"
    }
  },
  "cells": [
    {
      "cell_type": "markdown",
      "metadata": {
        "id": "view-in-github",
        "colab_type": "text"
      },
      "source": [
        "<a href=\"https://colab.research.google.com/github/Chandraavisena/chandra-avisena/blob/main/Pertemuan2.ipynb\" target=\"_parent\"><img src=\"https://colab.research.google.com/assets/colab-badge.svg\" alt=\"Open In Colab\"/></a>"
      ]
    },
    {
      "cell_type": "code",
      "execution_count": 1,
      "metadata": {
        "colab": {
          "base_uri": "https://localhost:8080/"
        },
        "id": "3gBD3a5gT3P8",
        "outputId": "869f638c-977d-4d80-9632-7cc44eb99e57"
      },
      "outputs": [
        {
          "output_type": "stream",
          "name": "stdout",
          "text": [
            "KPK dari 3 dan 4 adalah 12\n"
          ]
        }
      ],
      "source": [
        "def cari_kpk(angka1, angka2):\n",
        "    faktor1 = faktor2 = 2\n",
        "    kpk = 1\n",
        "\n",
        "    while angka1 > 1 or angka2 > 1:\n",
        "        while angka1 % faktor1 == 0 or angka2 % faktor2 == 0:\n",
        "            if angka1 % faktor1 == 0:\n",
        "                angka1 = angka1 / faktor1\n",
        "            if angka2 % faktor2 == 0:\n",
        "                angka2 = angka2 / faktor2\n",
        "            kpk = kpk * faktor1\n",
        "        faktor1 = faktor1 + 1\n",
        "        faktor2 = faktor2 + 1\n",
        "\n",
        "    return kpk\n",
        "\n",
        "angka1 = 3\n",
        "angka2 = 4\n",
        "hasil_kpk = cari_kpk(angka1, angka2)\n",
        "print(\"KPK dari\", angka1, \"dan\", angka2, \"adalah\", hasil_kpk)"
      ]
    },
    {
      "cell_type": "code",
      "source": [
        "# Inisialisasi kondisi awal\n",
        "piring1 = \"manggis\"\n",
        "piring2 = \"pisang\"\n",
        "piring3 = None\n",
        "\n",
        "# Pindahkan manggis dari piring 1 ke piring 3\n",
        "piring3 = piring1\n",
        "piring1 = None\n",
        "\n",
        "# Pindahkan pisang dari piring 2 ke piring 1\n",
        "piring1 = piring2\n",
        "piring2 = None\n",
        "\n",
        "# Pindahkan manggis dari piring 3 ke piring 2\n",
        "piring2 = piring3\n",
        "piring3 = None\n",
        "\n",
        "# Hasil akhir\n",
        "print(\"Piring 1:\", piring1)\n",
        "print(\"Piring 2:\", piring2)\n",
        "print(\"Piring 3:\", piring3)"
      ],
      "metadata": {
        "colab": {
          "base_uri": "https://localhost:8080/"
        },
        "id": "5rACvIoKT8t9",
        "outputId": "92cc59ec-ac25-4e10-f830-2e8d45ead971"
      },
      "execution_count": 2,
      "outputs": [
        {
          "output_type": "stream",
          "name": "stdout",
          "text": [
            "Piring 1: pisang\n",
            "Piring 2: manggis\n",
            "Piring 3: None\n"
          ]
        }
      ]
    },
    {
      "cell_type": "code",
      "source": [
        "panjang = 5\n",
        "tinggi = 3\n",
        "luas = panjang * tinggi\n",
        "\n",
        "print(\"Luas jajar genjang adalah:\", luas)"
      ],
      "metadata": {
        "colab": {
          "base_uri": "https://localhost:8080/"
        },
        "id": "9tfBE9w5T_fB",
        "outputId": "c9028016-be23-4080-9093-765644a62853"
      },
      "execution_count": 3,
      "outputs": [
        {
          "output_type": "stream",
          "name": "stdout",
          "text": [
            "Luas jajar genjang adalah: 15\n"
          ]
        }
      ]
    },
    {
      "cell_type": "code",
      "source": [
        "import math\n",
        "\n",
        "jari_jari = 3\n",
        "tinggi = 5\n",
        "volume = math.pi * (jari_jari ** 2) * tinggi\n",
        "\n",
        "print(\"Volume tabung adalah:\", volume)"
      ],
      "metadata": {
        "colab": {
          "base_uri": "https://localhost:8080/"
        },
        "id": "tYfuwLrwUC8-",
        "outputId": "78851e89-2f98-4cef-f39e-5f8be020b04c"
      },
      "execution_count": 4,
      "outputs": [
        {
          "output_type": "stream",
          "name": "stdout",
          "text": [
            "Volume tabung adalah: 141.3716694115407\n"
          ]
        }
      ]
    },
    {
      "cell_type": "code",
      "source": [
        "import math\n",
        "\n",
        "diameter = 5\n",
        "jari_jari = diameter / 2\n",
        "tinggi = 4\n",
        "volume = (1/3) * math.pi * (jari_jari ** 2) * tinggi\n",
        "\n",
        "print(\"Volume kerucut adalah:\", volume)"
      ],
      "metadata": {
        "colab": {
          "base_uri": "https://localhost:8080/"
        },
        "id": "DDnqd61pUGrN",
        "outputId": "54050740-7694-49f0-d6bc-2e585ff2a29e"
      },
      "execution_count": 5,
      "outputs": [
        {
          "output_type": "stream",
          "name": "stdout",
          "text": [
            "Volume kerucut adalah: 26.17993877991494\n"
          ]
        }
      ]
    }
  ]
}