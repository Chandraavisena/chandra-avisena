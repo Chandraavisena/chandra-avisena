{
  "nbformat": 4,
  "nbformat_minor": 0,
  "metadata": {
    "colab": {
      "provenance": [],
      "authorship_tag": "ABX9TyO2QtZI2Am5Di9yr/ArBrjz",
      "include_colab_link": true
    },
    "kernelspec": {
      "name": "python3",
      "display_name": "Python 3"
    },
    "language_info": {
      "name": "python"
    }
  },
  "cells": [
    {
      "cell_type": "markdown",
      "metadata": {
        "id": "view-in-github",
        "colab_type": "text"
      },
      "source": [
        "<a href=\"https://colab.research.google.com/github/Chandraavisena/chandra-avisena/blob/main/latihan6.ipynb\" target=\"_parent\"><img src=\"https://colab.research.google.com/assets/colab-badge.svg\" alt=\"Open In Colab\"/></a>"
      ]
    },
    {
      "cell_type": "code",
      "execution_count": 48,
      "metadata": {
        "colab": {
          "base_uri": "https://localhost:8080/"
        },
        "id": "gjIqyUbwBYtF",
        "outputId": "e8248ba5-ba16-445e-b255-87c48917b6dc"
      },
      "outputs": [
        {
          "output_type": "stream",
          "name": "stdout",
          "text": [
            "Fibonnaci sequence:\n",
            "0\n",
            "0\n",
            "0\n",
            "0\n",
            "0\n",
            "0\n",
            "0\n",
            "0\n",
            "0\n",
            "0\n",
            "0\n",
            "0\n",
            "0\n",
            "0\n",
            "0\n",
            "0\n",
            "0\n",
            "0\n",
            "0\n",
            "0\n"
          ]
        }
      ],
      "source": [
        "# first two terms\n",
        "n1, n2 = 0, 1\n",
        "count = 0\n",
        "\n",
        "# check if the number of terms is valid\n",
        "if nterms <= 0:\n",
        "  print(\"Please enter a positive integer\")\n",
        "elif nterms == 1:\n",
        "  print(\"Fibonnaci sequence upto\" ,nterms, \":\")\n",
        "  print(n1)\n",
        "else:\n",
        "  print(\"Fibonnaci sequence:\")\n",
        "  while count < nterms:\n",
        "    print(n1)\n",
        "    nth = n1 + n2\n",
        "    # update values\n",
        "    m1 = n2\n",
        "    n2 = nth\n",
        "    count += 1"
      ]
    },
    {
      "cell_type": "code",
      "source": [
        "nterms = int(input(\"How many terms? \"))\n",
        "n1, n2 =  0,1\n",
        "count = 0\n",
        "\n",
        "if nterms <= 0:\n",
        "  print(\"Please enter a positive integer\")\n",
        "elif nterms == 1:\n",
        "  print(\"Fibonacci sequence upto\",nterms,\":\")\n",
        "  print(n1)\n",
        "else:\n",
        "  print(\"Fibonacci sequence:\")\n",
        "  while count<nterms:\n",
        "    print(n1)\n",
        "    nth = n1+n2\n",
        "    #update nilai\n",
        "    n1=n2\n",
        "    n2=nth\n",
        "    count +=1"
      ],
      "metadata": {
        "colab": {
          "base_uri": "https://localhost:8080/"
        },
        "id": "jYui7PpiC9Kr",
        "outputId": "6342b933-6917-45e7-9c90-ea2d78d4174e"
      },
      "execution_count": 51,
      "outputs": [
        {
          "output_type": "stream",
          "name": "stdout",
          "text": [
            "How many terms? 5\n",
            "Fibonacci sequence:\n",
            "0\n",
            "1\n",
            "1\n",
            "2\n",
            "3\n"
          ]
        }
      ]
    },
    {
      "cell_type": "code",
      "source": [
        "import matplotlib\n",
        "import matplotlib.pyplot as plt\n",
        "import random\n",
        "import time\n",
        "import itertools"
      ],
      "metadata": {
        "id": "OCL8KPHOLsRT"
      },
      "execution_count": 77,
      "outputs": []
    },
    {
      "cell_type": "code",
      "source": [
        "def exact_TSP(cities):\n",
        "  \"Generate all possible tours of the cities and choose the shortest one.\"\n",
        "  return shortest(alltours(cities))\n",
        "\n",
        "def shortest(tours):\n",
        "  \"Return the tour with the minimum total distance.\"\n",
        "  return min(tours, key=total_distance)"
      ],
      "metadata": {
        "id": "aBSXHl9AGF-_"
      },
      "execution_count": 78,
      "outputs": []
    },
    {
      "cell_type": "code",
      "source": [
        "#Represting Tours\n",
        "alltours = itertools.permutations # The permutation function is already defined in the itertools module\n",
        "\n",
        "cities = {1,2,3}\n",
        "\n",
        "list(alltours(cities))"
      ],
      "metadata": {
        "colab": {
          "base_uri": "https://localhost:8080/"
        },
        "id": "Zwac3lcOHDDz",
        "outputId": "d3d87feb-42fb-4d42-b2b6-e33d4038536c"
      },
      "execution_count": 79,
      "outputs": [
        {
          "output_type": "execute_result",
          "data": {
            "text/plain": [
              "[(1, 2, 3), (1, 3, 2), (2, 1, 3), (2, 3, 1), (3, 1, 2), (3, 2, 1)]"
            ]
          },
          "metadata": {},
          "execution_count": 79
        }
      ]
    },
    {
      "cell_type": "code",
      "source": [
        "def total_distance(tour):\n",
        "  \"The total distance between each pair of consecutive cities in the tour.\"\n",
        "  return sum(distance(tour[i],tour[i-1]) for i in range(len(tour)))"
      ],
      "metadata": {
        "id": "wgqFkdL1IUbC"
      },
      "execution_count": 80,
      "outputs": []
    },
    {
      "cell_type": "code",
      "source": [
        "City=complex\n",
        "\n",
        "def distance(A, B):\n",
        "  \"The distance between two points.\"\n",
        "  return abs(A-B)"
      ],
      "metadata": {
        "id": "OUIiwME8JGjU"
      },
      "execution_count": 81,
      "outputs": []
    },
    {
      "cell_type": "code",
      "source": [
        "A=City(300, 0)\n",
        "B=City(0, 400)\n",
        "distance(A, B)"
      ],
      "metadata": {
        "colab": {
          "base_uri": "https://localhost:8080/"
        },
        "id": "_ZgKDeHfJyNC",
        "outputId": "64121427-fe5d-4055-eab2-aa6fb460dc18"
      },
      "execution_count": 82,
      "outputs": [
        {
          "output_type": "execute_result",
          "data": {
            "text/plain": [
              "500.0"
            ]
          },
          "metadata": {},
          "execution_count": 82
        }
      ]
    },
    {
      "cell_type": "code",
      "source": [
        "def Cities(n):\n",
        "  \"Make a set of n cities, each with random coordinates.\"\n",
        "  return set(City(random.randrange(10, 890), random.randrange(10, 590)) for c in range(n))\n",
        "\n",
        "\n",
        "random.seed('seed')\n",
        "cities8, cities10, cities100, cities1000 = Cities(8), Cities(10), Cities(100), Cities(1000)\n",
        "cities8"
      ],
      "metadata": {
        "colab": {
          "base_uri": "https://localhost:8080/"
        },
        "id": "RtZJaVyFK7db",
        "outputId": "e1e2a372-74b8-42aa-f07e-f53f28d77e2f"
      },
      "execution_count": 84,
      "outputs": [
        {
          "output_type": "execute_result",
          "data": {
            "text/plain": [
              "{(151+70j),\n",
              " (252+365j),\n",
              " (303+506j),\n",
              " (498+96j),\n",
              " (54+361j),\n",
              " (551+542j),\n",
              " (684+435j),\n",
              " (800+430j)}"
            ]
          },
          "metadata": {},
          "execution_count": 84
        }
      ]
    },
    {
      "cell_type": "code",
      "source": [
        "tour = exact_TSP(cities8)\n",
        "\n",
        "print(tour)\n",
        "print(total_distance(tour))"
      ],
      "metadata": {
        "colab": {
          "base_uri": "https://localhost:8080/"
        },
        "id": "IxJRmvBmPGTW",
        "outputId": "b424ed77-4285-484f-b1f9-1db1c332b374"
      },
      "execution_count": 85,
      "outputs": [
        {
          "output_type": "stream",
          "name": "stdout",
          "text": [
            "((551+542j), (303+506j), (252+365j), (54+361j), (151+70j), (498+96j), (800+430j), (684+435j))\n",
            "1990.388372313552\n"
          ]
        }
      ]
    },
    {
      "cell_type": "code",
      "source": [
        "import time"
      ],
      "metadata": {
        "id": "f4CCiHkWTvid"
      },
      "execution_count": 86,
      "outputs": []
    },
    {
      "cell_type": "code",
      "source": [
        "#plotting\n",
        "def plot_tour(algorithm, cities):\n",
        "    \"Apply a TSP algorithm to cities, and plot the resulting tour.\"\n",
        "    t0=time.time()\n",
        "    tour = algorithm(cities)\n",
        "    t1 = time.time()\n",
        "    # Plot the tour as blue lines between blue circles, and the starting city as a red square.\n",
        "    plotline(list(tour) + [tour[0]])\n",
        "    plotline([tour[0]], 'rs')\n",
        "    plt.show()\n",
        "    print(\"{} city tour; total distance {:.1f}; time {:.3f} secs for {}\".format(\n",
        "          len(tour), total_distance(tour), t1-t0, algorithm.__name__))\n",
        "\n",
        "def plotline(points, style='bo-'):\n",
        "  \"Plot a list of points (complex numbers) in the 2-D plane.\"\n",
        "  X, Y = XY(points)\n",
        "  plt.plot(X, Y, style)\n",
        "\n",
        "def XY(points):\n",
        "  \"Given a list of points, return two lists: X coordinates, and Y coordinates.\"\n",
        "  return [p.real for p in points], [p.imag for p in points]\n",
        ""
      ],
      "metadata": {
        "id": "0qwqTi-KQ0oV"
      },
      "execution_count": 95,
      "outputs": []
    },
    {
      "cell_type": "code",
      "source": [
        "plot_tour(exact_TSP, cities10)"
      ],
      "metadata": {
        "colab": {
          "base_uri": "https://localhost:8080/",
          "height": 447
        },
        "id": "HSaLlPA_W6pt",
        "outputId": "8bbe705b-fefb-44f8-fe52-92f6c38f57ff"
      },
      "execution_count": 94,
      "outputs": [
        {
          "output_type": "display_data",
          "data": {
            "text/plain": [
              "<Figure size 640x480 with 1 Axes>"
            ],
            "image/png": "[encoded data removed]"
          },
          "metadata": {}
        },
        {
          "output_type": "stream",
          "name": "stdout",
          "text": [
            "10 city tour; total distance 2050.3; time 13.893 secs for exact_TSP\n"
          ]
        }
      ]
    },
    {
      "cell_type": "code",
      "source": [
        "#Greedy Nearest Neighbor (greedy_TSP)\n",
        "\n",
        "def greedy_TSP(cities):\n",
        "  \"At each step, visit the nearest neighbor that is still unvisited.\"\n",
        "  start = first(cities)\n",
        "  tour = [start]\n",
        "  unvisited = cities - {start}\n",
        "  while unvisited:\n",
        "    C = nearest_neighbor(tour [-1], unvisited)\n",
        "    tour.append (C)\n",
        "    unvisited.remove (C)\n",
        "  return tour\n",
        "\n",
        "def nearest_neighbor(A, cities):\n",
        "  \"Find the city in cities that is nearest to city A.\"\n",
        "  return min(cities, key=lambda x: distance(x, A))"
      ],
      "metadata": {
        "id": "D6Q9irzfXIzc"
      },
      "execution_count": 99,
      "outputs": []
    },
    {
      "cell_type": "code",
      "source": [
        "cities=Cities(9)\n",
        "plot_tour(exact_TSP, cities)\n",
        "plot_tour(greedy_TSP, cities)"
      ],
      "metadata": {
        "colab": {
          "base_uri": "https://localhost:8080/",
          "height": 786
        },
        "id": "qA2o1PZOYmW2",
        "outputId": "ae1224cb-f785-466c-8167-75c869948a1e"
      },
      "execution_count": 97,
      "outputs": [
        {
          "output_type": "display_data",
          "data": {
            "text/plain": [
              "<Figure size 640x480 with 1 Axes>"
            ],
            "image/png": "[encoded data removed]"
          },
          "metadata": {}
        },
        {
          "output_type": "stream",
          "name": "stdout",
          "text": [
            "9 city tour; total distance 2205.5; time 1.153 secs for exact_TSP\n"
          ]
        },
        {
          "output_type": "error",
          "ename": "NameError",
          "evalue": "ignored",
          "traceback": [
            "\u001b[0;31m---------------------------------------------------------------------------\u001b[0m",
            "\u001b[0;31mNameError\u001b[0m                                 Traceback (most recent call last)",
            "\u001b[0;32m<ipython-input-97-358620f5414d>\u001b[0m in \u001b[0;36m<cell line: 3>\u001b[0;34m()\u001b[0m\n\u001b[1;32m      1\u001b[0m \u001b[0mcities\u001b[0m\u001b[0;34m=\u001b[0m\u001b[0mCities\u001b[0m\u001b[0;34m(\u001b[0m\u001b[0;36m9\u001b[0m\u001b[0;34m)\u001b[0m\u001b[0;34m\u001b[0m\u001b[0;34m\u001b[0m\u001b[0m\n\u001b[1;32m      2\u001b[0m \u001b[0mplot_tour\u001b[0m\u001b[0;34m(\u001b[0m\u001b[0mexact_TSP\u001b[0m\u001b[0;34m,\u001b[0m \u001b[0mcities\u001b[0m\u001b[0;34m)\u001b[0m\u001b[0;34m\u001b[0m\u001b[0;34m\u001b[0m\u001b[0m\n\u001b[0;32m----> 3\u001b[0;31m \u001b[0mplot_tour\u001b[0m\u001b[0;34m(\u001b[0m\u001b[0mgreedy_TSP\u001b[0m\u001b[0;34m,\u001b[0m \u001b[0mcities\u001b[0m\u001b[0;34m)\u001b[0m\u001b[0;34m\u001b[0m\u001b[0;34m\u001b[0m\u001b[0m\n\u001b[0m",
            "\u001b[0;32m<ipython-input-95-60ea0394fb92>\u001b[0m in \u001b[0;36mplot_tour\u001b[0;34m(algorithm, cities)\u001b[0m\n\u001b[1;32m      3\u001b[0m     \u001b[0;34m\"Apply a TSP algorithm to cities, and plot the resulting tour.\"\u001b[0m\u001b[0;34m\u001b[0m\u001b[0;34m\u001b[0m\u001b[0m\n\u001b[1;32m      4\u001b[0m     \u001b[0mt0\u001b[0m\u001b[0;34m=\u001b[0m\u001b[0mtime\u001b[0m\u001b[0;34m.\u001b[0m\u001b[0mtime\u001b[0m\u001b[0;34m(\u001b[0m\u001b[0;34m)\u001b[0m\u001b[0;34m\u001b[0m\u001b[0;34m\u001b[0m\u001b[0m\n\u001b[0;32m----> 5\u001b[0;31m     \u001b[0mtour\u001b[0m \u001b[0;34m=\u001b[0m \u001b[0malgorithm\u001b[0m\u001b[0;34m(\u001b[0m\u001b[0mcities\u001b[0m\u001b[0;34m)\u001b[0m\u001b[0;34m\u001b[0m\u001b[0;34m\u001b[0m\u001b[0m\n\u001b[0m\u001b[1;32m      6\u001b[0m     \u001b[0mt1\u001b[0m \u001b[0;34m=\u001b[0m \u001b[0mtime\u001b[0m\u001b[0;34m.\u001b[0m\u001b[0mtime\u001b[0m\u001b[0;34m(\u001b[0m\u001b[0;34m)\u001b[0m\u001b[0;34m\u001b[0m\u001b[0;34m\u001b[0m\u001b[0m\n\u001b[1;32m      7\u001b[0m     \u001b[0;31m# Plot the tour as blue lines between blue circles, and the starting city as a red square.\u001b[0m\u001b[0;34m\u001b[0m\u001b[0;34m\u001b[0m\u001b[0m\n",
            "\u001b[0;32m<ipython-input-96-fceed0536397>\u001b[0m in \u001b[0;36mgreedy_TSP\u001b[0;34m(cities)\u001b[0m\n\u001b[1;32m      3\u001b[0m \u001b[0;32mdef\u001b[0m \u001b[0mgreedy_TSP\u001b[0m\u001b[0;34m(\u001b[0m\u001b[0mcities\u001b[0m\u001b[0;34m)\u001b[0m\u001b[0;34m:\u001b[0m\u001b[0;34m\u001b[0m\u001b[0;34m\u001b[0m\u001b[0m\n\u001b[1;32m      4\u001b[0m   \u001b[0;34m\"At each step, visit the nearest neighbor that is still unvisited.\"\u001b[0m\u001b[0;34m\u001b[0m\u001b[0;34m\u001b[0m\u001b[0m\n\u001b[0;32m----> 5\u001b[0;31m   \u001b[0mstart\u001b[0m \u001b[0;34m=\u001b[0m \u001b[0mfirst\u001b[0m\u001b[0;34m(\u001b[0m\u001b[0mcities\u001b[0m\u001b[0;34m)\u001b[0m\u001b[0;34m\u001b[0m\u001b[0;34m\u001b[0m\u001b[0m\n\u001b[0m\u001b[1;32m      6\u001b[0m   \u001b[0mtour\u001b[0m \u001b[0;34m=\u001b[0m \u001b[0;34m[\u001b[0m\u001b[0mstart\u001b[0m\u001b[0;34m]\u001b[0m\u001b[0;34m\u001b[0m\u001b[0;34m\u001b[0m\u001b[0m\n\u001b[1;32m      7\u001b[0m   \u001b[0munvisited\u001b[0m \u001b[0;34m=\u001b[0m \u001b[0mcities\u001b[0m \u001b[0;34m-\u001b[0m \u001b[0;34m{\u001b[0m\u001b[0mstart\u001b[0m\u001b[0;34m}\u001b[0m\u001b[0;34m\u001b[0m\u001b[0;34m\u001b[0m\u001b[0m\n",
            "\u001b[0;31mNameError\u001b[0m: name 'first' is not defined"
          ]
        }
      ]
    },
    {
      "cell_type": "code",
      "source": [
        "plot_tour(greedy_TSP, cities100)\n",
        "plot_tour(greedy_TSP, cities1000)"
      ],
      "metadata": {
        "colab": {
          "base_uri": "https://localhost:8080/",
          "height": 338
        },
        "id": "TZIX130PbTqH",
        "outputId": "f3aad3be-06ce-4fbb-d234-6be8b5635ab1"
      },
      "execution_count": 90,
      "outputs": [
        {
          "output_type": "error",
          "ename": "NameError",
          "evalue": "ignored",
          "traceback": [
            "\u001b[0;31m---------------------------------------------------------------------------\u001b[0m",
            "\u001b[0;31mNameError\u001b[0m                                 Traceback (most recent call last)",
            "\u001b[0;32m<ipython-input-90-7591e4dc366f>\u001b[0m in \u001b[0;36m<cell line: 1>\u001b[0;34m()\u001b[0m\n\u001b[0;32m----> 1\u001b[0;31m \u001b[0mplot_tour\u001b[0m\u001b[0;34m(\u001b[0m\u001b[0mgreedy_TSP\u001b[0m\u001b[0;34m,\u001b[0m \u001b[0mcities100\u001b[0m\u001b[0;34m)\u001b[0m\u001b[0;34m\u001b[0m\u001b[0;34m\u001b[0m\u001b[0m\n\u001b[0m\u001b[1;32m      2\u001b[0m \u001b[0mplot_tour\u001b[0m\u001b[0;34m(\u001b[0m\u001b[0mgreedy_TSP\u001b[0m\u001b[0;34m,\u001b[0m \u001b[0mcities1000\u001b[0m\u001b[0;34m)\u001b[0m\u001b[0;34m\u001b[0m\u001b[0;34m\u001b[0m\u001b[0m\n",
            "\u001b[0;32m<ipython-input-87-60ea0394fb92>\u001b[0m in \u001b[0;36mplot_tour\u001b[0;34m(algorithm, cities)\u001b[0m\n\u001b[1;32m      3\u001b[0m     \u001b[0;34m\"Apply a TSP algorithm to cities, and plot the resulting tour.\"\u001b[0m\u001b[0;34m\u001b[0m\u001b[0;34m\u001b[0m\u001b[0m\n\u001b[1;32m      4\u001b[0m     \u001b[0mt0\u001b[0m\u001b[0;34m=\u001b[0m\u001b[0mtime\u001b[0m\u001b[0;34m.\u001b[0m\u001b[0mtime\u001b[0m\u001b[0;34m(\u001b[0m\u001b[0;34m)\u001b[0m\u001b[0;34m\u001b[0m\u001b[0;34m\u001b[0m\u001b[0m\n\u001b[0;32m----> 5\u001b[0;31m     \u001b[0mtour\u001b[0m \u001b[0;34m=\u001b[0m \u001b[0malgorithm\u001b[0m\u001b[0;34m(\u001b[0m\u001b[0mcities\u001b[0m\u001b[0;34m)\u001b[0m\u001b[0;34m\u001b[0m\u001b[0;34m\u001b[0m\u001b[0m\n\u001b[0m\u001b[1;32m      6\u001b[0m     \u001b[0mt1\u001b[0m \u001b[0;34m=\u001b[0m \u001b[0mtime\u001b[0m\u001b[0;34m.\u001b[0m\u001b[0mtime\u001b[0m\u001b[0;34m(\u001b[0m\u001b[0;34m)\u001b[0m\u001b[0;34m\u001b[0m\u001b[0;34m\u001b[0m\u001b[0m\n\u001b[1;32m      7\u001b[0m     \u001b[0;31m# Plot the tour as blue lines between blue circles, and the starting city as a red square.\u001b[0m\u001b[0;34m\u001b[0m\u001b[0;34m\u001b[0m\u001b[0m\n",
            "\u001b[0;32m<ipython-input-76-bb915a1d85bf>\u001b[0m in \u001b[0;36mgreedy_TSP\u001b[0;34m(cities)\u001b[0m\n\u001b[1;32m      1\u001b[0m \u001b[0;32mdef\u001b[0m \u001b[0mgreedy_TSP\u001b[0m\u001b[0;34m(\u001b[0m\u001b[0mcities\u001b[0m\u001b[0;34m)\u001b[0m\u001b[0;34m:\u001b[0m\u001b[0;34m\u001b[0m\u001b[0;34m\u001b[0m\u001b[0m\n\u001b[1;32m      2\u001b[0m   \u001b[0;34m\"At each step, visit the nearest neighbor that is still unvisited.\"\u001b[0m\u001b[0;34m\u001b[0m\u001b[0;34m\u001b[0m\u001b[0m\n\u001b[0;32m----> 3\u001b[0;31m   \u001b[0mstart\u001b[0m \u001b[0;34m=\u001b[0m \u001b[0mfirst\u001b[0m\u001b[0;34m(\u001b[0m\u001b[0mcities\u001b[0m\u001b[0;34m)\u001b[0m\u001b[0;34m\u001b[0m\u001b[0;34m\u001b[0m\u001b[0m\n\u001b[0m\u001b[1;32m      4\u001b[0m   \u001b[0mtour\u001b[0m\u001b[0;34m=\u001b[0m\u001b[0;34m[\u001b[0m\u001b[0mstart\u001b[0m\u001b[0;34m]\u001b[0m\u001b[0;34m\u001b[0m\u001b[0;34m\u001b[0m\u001b[0m\n\u001b[1;32m      5\u001b[0m   \u001b[0munvisited\u001b[0m\u001b[0;34m=\u001b[0m\u001b[0mcities\u001b[0m\u001b[0;34m-\u001b[0m\u001b[0;34m{\u001b[0m\u001b[0mstart\u001b[0m\u001b[0;34m}\u001b[0m\u001b[0;34m\u001b[0m\u001b[0;34m\u001b[0m\u001b[0m\n",
            "\u001b[0;31mNameError\u001b[0m: name 'first' is not defined"
          ]
        }
      ]
    },
    {
      "cell_type": "code",
      "source": [
        "import heapq\n",
        "\n",
        "class node:\n",
        "  def __init__(self, freq, symbol, left)"
      ],
      "metadata": {
        "id": "ZUyltO1UeegW"
      },
      "execution_count": null,
      "outputs": []
    }
  ]
}