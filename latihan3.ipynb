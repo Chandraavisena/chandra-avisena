{
  "nbformat": 4,
  "nbformat_minor": 0,
  "metadata": {
    "colab": {
      "provenance": [],
      "toc_visible": true,
      "authorship_tag": "ABX9TyOp2aELFbnL431pHnibDvIk",
      "include_colab_link": true
    },
    "kernelspec": {
      "name": "python3",
      "display_name": "Python 3"
    },
    "language_info": {
      "name": "python"
    }
  },
  "cells": [
    {
      "cell_type": "markdown",
      "metadata": {
        "id": "view-in-github",
        "colab_type": "text"
      },
      "source": [
        "<a href=\"https://colab.research.google.com/github/Chandraavisena/chandra-avisena/blob/main/latihan3.ipynb\" target=\"_parent\"><img src=\"https://colab.research.google.com/assets/colab-badge.svg\" alt=\"Open In Colab\"/></a>"
      ]
    },
    {
      "cell_type": "code",
      "execution_count": 7,
      "metadata": {
        "colab": {
          "base_uri": "https://localhost:8080/"
        },
        "id": "hKq_LsXQ1JBC",
        "outputId": "a8fd296e-3c10-44af-8a73-01b040d368c9"
      },
      "outputs": [
        {
          "output_type": "stream",
          "name": "stdout",
          "text": [
            "['John', 33, 'Toronto', True]\n"
          ]
        }
      ],
      "source": [
        "aList=[\"John\", 33, \"Toronto\", True]\n",
        "print(aList)\n",
        "\n"
      ]
    },
    {
      "cell_type": "code",
      "source": [
        "import datetime\n",
        "x = datetime.datetime.now()\n",
        "print(x)"
      ],
      "metadata": {
        "colab": {
          "base_uri": "https://localhost:8080/"
        },
        "id": "8oAN_Bh43GLh",
        "outputId": "5f8e0e93-638e-4583-ce9e-1da423cf64b1"
      },
      "execution_count": 9,
      "outputs": [
        {
          "output_type": "stream",
          "name": "stdout",
          "text": [
            "2023-09-11 06:11:33.597984\n"
          ]
        }
      ]
    },
    {
      "cell_type": "code",
      "source": [
        "Mahasiswa =[\"Chandra\", 2022071077, \"Informatika\", \"DAA\", datetime.date.today(), \"UPJ\"]\n",
        "print(Mahasiswa)"
      ],
      "metadata": {
        "colab": {
          "base_uri": "https://localhost:8080/"
        },
        "id": "oV99pmLg373w",
        "outputId": "87810d49-2763-4cc6-eca7-6f2cf11f673a"
      },
      "execution_count": 30,
      "outputs": [
        {
          "output_type": "stream",
          "name": "stdout",
          "text": [
            "['Chandra', 2022071077, 'Informatika', 'DAA', datetime.date(2023, 9, 11), 'UPJ']\n"
          ]
        }
      ]
    },
    {
      "cell_type": "code",
      "source": [
        "Mahasiswa=[\"Chandra\", 2022071077, \"Informatika\", \"DAA\", datetime.date.today(), \"UPJ\"]\n",
        "Mahasiswa[1:2]"
      ],
      "metadata": {
        "colab": {
          "base_uri": "https://localhost:8080/"
        },
        "id": "p-y0xfAuEGNQ",
        "outputId": "f3d207f5-318f-4dbf-8adc-5075c8e10c01"
      },
      "execution_count": 42,
      "outputs": [
        {
          "output_type": "execute_result",
          "data": {
            "text/plain": [
              "[2022071077]"
            ]
          },
          "metadata": {},
          "execution_count": 42
        }
      ]
    },
    {
      "cell_type": "code",
      "source": [
        "bin_colors=['Red','Green','Blue','Yellow']\n",
        "bin_colors[2]"
      ],
      "metadata": {
        "colab": {
          "base_uri": "https://localhost:8080/",
          "height": 35
        },
        "id": "w1So9iSB9HXf",
        "outputId": "06f805e8-303a-4bfa-bb20-0da35baf0e46"
      },
      "execution_count": 18,
      "outputs": [
        {
          "output_type": "execute_result",
          "data": {
            "text/plain": [
              "'Blue'"
            ],
            "application/vnd.google.colaboratory.intrinsic+json": {
              "type": "string"
            }
          },
          "metadata": {},
          "execution_count": 18
        }
      ]
    },
    {
      "cell_type": "code",
      "source": [
        "bin_colors=['Red','Green','Blue','Yellow']\n",
        "bin_colors[1:2]"
      ],
      "metadata": {
        "colab": {
          "base_uri": "https://localhost:8080/"
        },
        "id": "B3xNpaKs_ZIw",
        "outputId": "b4a3b33b-6523-41d9-bb14-f9eda20ce465"
      },
      "execution_count": 29,
      "outputs": [
        {
          "output_type": "execute_result",
          "data": {
            "text/plain": [
              "['Green']"
            ]
          },
          "metadata": {},
          "execution_count": 29
        }
      ]
    },
    {
      "cell_type": "code",
      "source": [
        "Mahasiswa=[\"Chandra\", 2022071077, \"Informatika\", \"DAA\", datetime.date.today(), \"UPJ\"]\n",
        "Mahasiswa[3:4]"
      ],
      "metadata": {
        "colab": {
          "base_uri": "https://localhost:8080/"
        },
        "id": "agI6xbTTHD-Y",
        "outputId": "e02ecbb1-e923-44ee-d998-f611f4266bb5"
      },
      "execution_count": 48,
      "outputs": [
        {
          "output_type": "execute_result",
          "data": {
            "text/plain": [
              "['DAA']"
            ]
          },
          "metadata": {},
          "execution_count": 48
        }
      ]
    },
    {
      "cell_type": "code",
      "source": [
        "bin_colors=['Red','Green','Blue','Yellow']\n",
        "for aColor in bin_colors:\n",
        "  print(aColor + \" Square\")"
      ],
      "metadata": {
        "colab": {
          "base_uri": "https://localhost:8080/"
        },
        "id": "NK-K9dLOHqGQ",
        "outputId": "0e1c9819-9e41-468a-aab8-52c1e48546d7"
      },
      "execution_count": 46,
      "outputs": [
        {
          "output_type": "stream",
          "name": "stdout",
          "text": [
            "Red Square\n",
            "Green Square\n",
            "Blue Square\n",
            "Yellow Square\n"
          ]
        }
      ]
    },
    {
      "cell_type": "code",
      "source": [
        "Mahasiswa=[\"Chandra\", \"Informatika\", \"DAA\", \"UPJ\"]\n",
        "for aMahasiswa in Mahasiswa:\n",
        "  print(\"UPJ \" + aMahasiswa)"
      ],
      "metadata": {
        "colab": {
          "base_uri": "https://localhost:8080/"
        },
        "id": "HPUFsSYKIiSf",
        "outputId": "c9828268-0580-43c3-f052-25117f838274"
      },
      "execution_count": 53,
      "outputs": [
        {
          "output_type": "stream",
          "name": "stdout",
          "text": [
            "UPJ Chandra\n",
            "UPJ Informatika\n",
            "UPJ DAA\n",
            "UPJ UPJ\n"
          ]
        }
      ]
    },
    {
      "cell_type": "code",
      "source": [
        "bin_colors=('Red','Green','Blue','Yellow')\n",
        "bin_colors[2:]"
      ],
      "metadata": {
        "colab": {
          "base_uri": "https://localhost:8080/"
        },
        "id": "30A4wWcSKypf",
        "outputId": "c16c5afd-9ba1-4077-f89d-9867680abef4"
      },
      "execution_count": 58,
      "outputs": [
        {
          "output_type": "execute_result",
          "data": {
            "text/plain": [
              "('Blue', 'Yellow')"
            ]
          },
          "metadata": {},
          "execution_count": 58
        }
      ]
    },
    {
      "cell_type": "code",
      "source": [
        "Upj=('Universitas','Pembangunan','jaya')\n",
        "Upj[0:]"
      ],
      "metadata": {
        "colab": {
          "base_uri": "https://localhost:8080/"
        },
        "id": "iSy4QloxMlXP",
        "outputId": "ae40fbf9-fdab-4931-85e1-fdb6f86e9a2a"
      },
      "execution_count": 61,
      "outputs": [
        {
          "output_type": "execute_result",
          "data": {
            "text/plain": [
              "('Universitas', 'Pembangunan', 'jaya')"
            ]
          },
          "metadata": {},
          "execution_count": 61
        }
      ]
    },
    {
      "cell_type": "code",
      "source": [
        "hariAwal=(\"senin\",\"selasa\",\"rabu\")\n",
        "hariAkhir=(\"kamis\",\"jumat\",\"sabtu\")\n",
        "\n",
        "hari=(hariAwal, hariAkhir)\n",
        "print(hari)"
      ],
      "metadata": {
        "colab": {
          "base_uri": "https://localhost:8080/"
        },
        "id": "F8Rq7ujPREce",
        "outputId": "ce12666d-482a-44fc-d2ec-f93aaff32052"
      },
      "execution_count": 63,
      "outputs": [
        {
          "output_type": "stream",
          "name": "stdout",
          "text": [
            "(('senin', 'selasa', 'rabu'), ('kamis', 'jumat', 'sabtu'))\n"
          ]
        }
      ]
    },
    {
      "cell_type": "code",
      "source": [
        "pertama= 100\n",
        "kedua= 200,400,600\n",
        "ketiga= 300\n",
        "keempat= 400,800\n",
        "\n",
        "nested_tuple=(pertama,kedua,ketiga,keempat)\n",
        "print(nested_tuple)"
      ],
      "metadata": {
        "colab": {
          "base_uri": "https://localhost:8080/"
        },
        "id": "IQhg6u2KdZPf",
        "outputId": "c889a47c-b4b4-4062-c326-26ddc95358d8"
      },
      "execution_count": 68,
      "outputs": [
        {
          "output_type": "stream",
          "name": "stdout",
          "text": [
            "(100, (200, 400, 600), 300, (400, 800))\n"
          ]
        }
      ]
    },
    {
      "cell_type": "code",
      "source": [
        "bin_colors={\"manual_color\": \"Yellow\",\"approved_colors\": \"Green\", \"refused_color\": \"Red\"}\n",
        "print(bin_colors)"
      ],
      "metadata": {
        "colab": {
          "base_uri": "https://localhost:8080/"
        },
        "id": "vX0EkCWGO3Fg",
        "outputId": "13154350-b310-4c4b-e857-9b2b40f60541"
      },
      "execution_count": 62,
      "outputs": [
        {
          "output_type": "stream",
          "name": "stdout",
          "text": [
            "{'manual_color': 'Yellow', 'approved_colors': 'Green', 'refused_color': 'Red'}\n"
          ]
        }
      ]
    },
    {
      "cell_type": "code",
      "source": [
        "Mahasiswa={\"Nama\": \"Chandra Nur Avisena\",\"NIM\":\"2022071077\",\"Prodi\":\"Informatika\",\"Universitas\":\"Pembangunan Jaya\"}\n",
        "print(Mahasiswa)"
      ],
      "metadata": {
        "colab": {
          "base_uri": "https://localhost:8080/"
        },
        "id": "c3LBs4CNQ7gW",
        "outputId": "3e7c43a5-dc66-4bc0-ba1f-3032d82dc85b"
      },
      "execution_count": 67,
      "outputs": [
        {
          "output_type": "stream",
          "name": "stdout",
          "text": [
            "{'Nama': 'Chandra Nur Avisena', 'NIM': '2022071077', 'Prodi': 'Informatika', 'Universitas': 'Pembangunan Jaya'}\n"
          ]
        }
      ]
    },
    {
      "cell_type": "code",
      "source": [],
      "metadata": {
        "id": "d2v9o8dBbiXP"
      },
      "execution_count": null,
      "outputs": []
    }
  ]
}