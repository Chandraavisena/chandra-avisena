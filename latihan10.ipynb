{
  "nbformat": 4,
  "nbformat_minor": 0,
  "metadata": {
    "colab": {
      "provenance": [],
      "authorship_tag": "ABX9TyMHyTFuLcjsAKLFdjLFELjY",
      "include_colab_link": true
    },
    "kernelspec": {
      "name": "python3",
      "display_name": "Python 3"
    },
    "language_info": {
      "name": "python"
    }
  },
  "cells": [
    {
      "cell_type": "markdown",
      "metadata": {
        "id": "view-in-github",
        "colab_type": "text"
      },
      "source": [
        "<a href=\"https://colab.research.google.com/github/Chandraavisena/chandra-avisena/blob/main/latihan10.ipynb\" target=\"_parent\"><img src=\"https://colab.research.google.com/assets/colab-badge.svg\" alt=\"Open In Colab\"/></a>"
      ]
    },
    {
      "cell_type": "code",
      "execution_count": 69,
      "metadata": {
        "colab": {
          "base_uri": "https://localhost:8080/"
        },
        "id": "KovB9qS2OPXb",
        "outputId": "4dba332c-34c1-403e-e21e-69a63b7b4a17"
      },
      "outputs": [
        {
          "output_type": "stream",
          "name": "stdout",
          "text": [
            "Requirement already satisfied: pulp in /usr/local/lib/python3.10/dist-packages (2.7.0)\n"
          ]
        }
      ],
      "source": [
        "pip install pulp"
      ]
    },
    {
      "cell_type": "code",
      "source": [
        "import pulp"
      ],
      "metadata": {
        "id": "Al_sAxg1TgmF"
      },
      "execution_count": 86,
      "outputs": []
    },
    {
      "cell_type": "code",
      "source": [
        "# instantiate our problem class\n",
        "model = pulp.LpProblem(\"ProfitMaximisingProblem\", pulp.LpMaximize)\n",
        "A = pulp.LpVariable('A', lowBound=0, cat='Integer')\n",
        "B = pulp.LpVariable('B', lowBound=0, cat='Integer')\n",
        "# objective function\n",
        "model += 4200 * A + 2800 * B, \"Profit\"\n",
        "# constraints\n",
        "model += 3 * A + 2 * B <= 20\n",
        "model += 4 * A + 3 * B <= 30\n",
        "model += 4 * A + 3 * B <= 44\n",
        "# solve our problem\n",
        "model.solve()\n",
        "pulp.LpStatus[model.status]\n",
        "# print our decision variable values\n",
        "print(A.varValue)\n",
        "print(B.varValue)"
      ],
      "metadata": {
        "colab": {
          "base_uri": "https://localhost:8080/"
        },
        "id": "ExfPSi0fhzF4",
        "outputId": "b7973278-1e4c-49ac-9cdb-4d1ada398f63"
      },
      "execution_count": 87,
      "outputs": [
        {
          "output_type": "stream",
          "name": "stdout",
          "text": [
            "6.0\n",
            "1.0\n"
          ]
        }
      ]
    },
    {
      "cell_type": "code",
      "source": [
        "# 4x + 3y =34\n",
        "import pulp"
      ],
      "metadata": {
        "id": "m66rJoO8iSxf"
      },
      "execution_count": 112,
      "outputs": []
    },
    {
      "cell_type": "code",
      "source": [
        "# Membuat objek masalah optimasi\n",
        "model =pulp.LpProblem(name=\"Pemecahan_Persamaan\", sense=LpMinimize)\n",
        "\n",
        "# Membuat variabel x dan y\n",
        "x = pulp.LpVariable(name=\"x\")\n",
        "y = pulp.LpVariable(name=\"y\")\n",
        "\n",
        "# Menambahkan batasan\n",
        "model += 4 * x + 3 * y == 34\n",
        "\n",
        "# Menyelesaikan masalah\n",
        "model.solve()\n",
        "\n",
        "# Menampilkan hasil\n",
        "print(\"Status:\", model.status)\n",
        "print(\"Nilai x =\", x.varValue)\n",
        "print(\"Nilai y =\", y.varValue)"
      ],
      "metadata": {
        "colab": {
          "base_uri": "https://localhost:8080/"
        },
        "id": "3MFPEFqqaLt5",
        "outputId": "a20b9f79-7abc-4983-9c60-4ed9c54a48d9"
      },
      "execution_count": 113,
      "outputs": [
        {
          "output_type": "stream",
          "name": "stdout",
          "text": [
            "Status: 1\n",
            "Nilai x = 8.5\n",
            "Nilai y = 0.0\n"
          ]
        }
      ]
    },
    {
      "cell_type": "code",
      "source": [
        "# 5x + y =37\n",
        "# Membuat objek masalah optimasi\n",
        "model = pulp.LpProblem(name=\"Pemecahan_Persamaan\", sense=LpMinimize)\n",
        "\n",
        "# Membuat variabel x dan y\n",
        "x = pulp.LpVariable(name=\"x\")\n",
        "y = pulp.LpVariable(name=\"y\")\n",
        "\n",
        "# Menambahkan batasan\n",
        "model += 5 * x + y == 37\n",
        "\n",
        "# Menyelesaikan masalah\n",
        "model.solve()\n",
        "\n",
        "# Menampilkan hasil\n",
        "print(\"Status:\", model.status)\n",
        "print(\"Nilai x =\", x.varValue)\n",
        "print(\"Nilai y =\", y.varValue)"
      ],
      "metadata": {
        "colab": {
          "base_uri": "https://localhost:8080/"
        },
        "id": "LIJaoHmMitbF",
        "outputId": "df933203-babc-4938-f9b5-5c17c030eab4"
      },
      "execution_count": 111,
      "outputs": [
        {
          "output_type": "stream",
          "name": "stdout",
          "text": [
            "Status: 1\n",
            "Nilai x = 7.4\n",
            "Nilai y = 0.0\n"
          ]
        }
      ]
    },
    {
      "cell_type": "code",
      "source": [
        "# latihan cerita 1\n",
        "model = pulp.LpProblem(\"Budi purchase problem\", pulp.LpMaximize)\n",
        "P = pulp.LpVariable('P', lowBound=0, cat='Integer')\n",
        "B = pulp.LpVariable('B', lowBound=0, cat='Integer')\n",
        "# objective function\n",
        "model += 2 * P + 3 * B, \"Total cost\"\n",
        "# constraints\n",
        "model += 3 * P + 4 * B == 11000, \"Constraint1\"\n",
        "model += 1 * P + 7 * B == 15000, \"Constraint2\"\n",
        "# solve our problem\n",
        "model.solve()\n",
        "optimal_P = P.value()\n",
        "optimal_B = B.value()\n",
        "cost = 2 * optimal_P + 6 * optimal_B\n",
        "# menampilkan hasil\n",
        "print(\"Total jumlah pensil: \", P.varValue)\n",
        "print(\"Total jumlah buku: \", B.varValue)\n",
        "print(\"Total membeli 2 pensil dan 6 buku adalah: \", cost)"
      ],
      "metadata": {
        "colab": {
          "base_uri": "https://localhost:8080/"
        },
        "id": "YZgbzf0qoCB8",
        "outputId": "5ebf96fe-0b01-4e2a-ac1a-6aaa372c0365"
      },
      "execution_count": 124,
      "outputs": [
        {
          "output_type": "stream",
          "name": "stdout",
          "text": [
            "Total jumlah pensil:  1000.0\n",
            "Total jumlah buku:  2000.0\n",
            "Total membeli 2 pensil dan 6 buku adalah:  14000.0\n"
          ]
        }
      ]
    },
    {
      "cell_type": "code",
      "source": [
        "# latihan cerita 2\n",
        "def cari_panjang_dan_lebar(keliling):\n",
        "  P = (keliling/2) + 3\n",
        "  L = P - 6\n",
        "\n",
        "  return P, L\n",
        "\n",
        "keliling_persegi_panjang = 44\n",
        "panjang, lebar = cari_panjang_dan_lebar(keliling_persegi_panjang)\n",
        "print(f\"panjang persegi panjang: {panjang} cm\")\n",
        "print(f\"lebar persegi panjang: {lebar} cm\")"
      ],
      "metadata": {
        "colab": {
          "base_uri": "https://localhost:8080/"
        },
        "id": "qigWtiGYlbVt",
        "outputId": "36569080-2ef1-4d40-e9e2-e7c6cdc9416e"
      },
      "execution_count": 114,
      "outputs": [
        {
          "output_type": "stream",
          "name": "stdout",
          "text": [
            "panjang persegi panjang: 25.0 cm\n",
            "lebar persegi panjang: 19.0 cm\n"
          ]
        }
      ]
    },
    {
      "cell_type": "code",
      "source": [
        "import numpy as np\n",
        "from scipy.optimize import linprog"
      ],
      "metadata": {
        "id": "gqqoPA3O0WCY"
      },
      "execution_count": 126,
      "outputs": []
    },
    {
      "cell_type": "code",
      "source": [
        "# 1. impor modul yang diperlukan dari SciPy:\n",
        "from scipy.optimize import linprog\n",
        "\n",
        "# 2. tentukan koefisien fungsi tujuan dan matriks batasan:\n",
        "# koefisien fungsi tujuan (z = 5x1 + 7x2)\n",
        "c = [-5, -7] # karena kita ingin \"maksimalkan\" -5x1 - 7x2, maka perlu diubah menjadi \"-5\" dan \"-7\"\n",
        "#koefisien matriks batasan\n",
        "A = [\n",
        "    [1,0],\n",
        "    [2,3],\n",
        "    [1,1],\n",
        "]\n",
        "# batasan kanan (rhs) dari masing masing batasan\n",
        "b = [16, 19, 8]\n",
        "# 3. tentukan batasan variable x1 dan x2 sebagai variable non-negatif\n",
        "x1_bounds = (0, None)\n",
        "x2_bounds = (0, None)\n",
        "# 4. gunakan linprog untuk menyelesaikan masalah pemograman linier\n",
        "result = linprog(c, A_ub=A, b_ub=b, bounds =[x1_bounds, x2_bounds], method= \"highs\")\n",
        "# 5. tampilkan hasilnya\n",
        "print(\"Optimal solution:\")\n",
        "print(\"x1 =\", result.x[0])\n",
        "print(\"x2 =\", result.x[1])\n",
        "print(\"Max z =\", result.fun)"
      ],
      "metadata": {
        "colab": {
          "base_uri": "https://localhost:8080/"
        },
        "id": "2k3Q4eISxBAT",
        "outputId": "c96d4d61-8329-4747-9c9b-924317e68844"
      },
      "execution_count": 129,
      "outputs": [
        {
          "output_type": "stream",
          "name": "stdout",
          "text": [
            "Optimal solution:\n",
            "x1 = 5.0\n",
            "x2 = 3.0\n",
            "Max z = -46.0\n"
          ]
        }
      ]
    },
    {
      "cell_type": "code",
      "source": [
        "# Koefisien objektif untuk memaksimalkan\n",
        "c = [-1, -1]\n",
        "\n",
        "# Batasan persamaan\n",
        "A = [[4, 12]]\n",
        "b = [28]\n",
        "\n",
        "# Batasan variabel non-negatif\n",
        "x_bounds = (0, None)\n",
        "y_bounds = (0, None)\n",
        "\n",
        "# Solusi linear programming\n",
        "result = linprog(c, A_eq=A, b_eq=b, bounds=[x_bounds, y_bounds], method='highs')\n",
        "\n",
        "# Output hasil\n",
        "x = result.x[0]\n",
        "y = result.x[1]\n",
        "\n",
        "print(f\"Nilai x: {x}\")\n",
        "print(f\"Nilai y: {y}\")"
      ],
      "metadata": {
        "colab": {
          "base_uri": "https://localhost:8080/"
        },
        "id": "2rwRkCca1Rse",
        "outputId": "bb2d637c-8f6e-4bb5-c21b-1573ed4d11a6"
      },
      "execution_count": 130,
      "outputs": [
        {
          "output_type": "stream",
          "name": "stdout",
          "text": [
            "Nilai x: 7.0\n",
            "Nilai y: 0.0\n"
          ]
        }
      ]
    },
    {
      "cell_type": "code",
      "source": [
        "# Koefisien objektif untuk memaksimalkan (dalam kasus ini hanya target)\n",
        "c = [-1, -1]\n",
        "\n",
        "# Batasan persamaan\n",
        "A_eq = [[2, 1]]  # Koefisien persamaan\n",
        "b_eq = [21]      # Hasil persamaan\n",
        "\n",
        "# Batasan variabel non-negatif\n",
        "x_bounds = (0, None)  # x >= 0\n",
        "y_bounds = (0, None)  # y >= 0\n",
        "\n",
        "# Solusi linear programming\n",
        "result = linprog(c, A_eq=A_eq, b_eq=b_eq, bounds=[x_bounds, y_bounds], method='highs')\n",
        "\n",
        "# Output hasil\n",
        "x = result.x[0]\n",
        "y = result.x[1]\n",
        "\n",
        "print(f\"Nilai x: {x}\")\n",
        "print(f\"Nilai y: {y}\")"
      ],
      "metadata": {
        "colab": {
          "base_uri": "https://localhost:8080/"
        },
        "id": "jbTP0MHL2Yqt",
        "outputId": "97b0c692-bd5a-4db2-c13e-a833cb240db4"
      },
      "execution_count": 131,
      "outputs": [
        {
          "output_type": "stream",
          "name": "stdout",
          "text": [
            "Nilai x: 0.0\n",
            "Nilai y: 21.0\n"
          ]
        }
      ]
    },
    {
      "cell_type": "code",
      "source": [
        "# Koefisien matriks persamaan (koefisien x dan y)\n",
        "A = [[3, 4], [1, 1]]\n",
        "\n",
        "# Batas (kanan) persamaan (55 tas, 16 jam)\n",
        "b = [55, 16]\n",
        "\n",
        "# Batas variabel x dan y (tidak negatif)\n",
        "x_bounds = (0, None)\n",
        "y_bounds = (0, None)\n",
        "\n",
        "# Menyelesaikan persamaan linear\n",
        "result = linprog(c=[-1, -1], A_ub=A, b_ub=b, bounds=[x_bounds, y_bounds])\n",
        "\n",
        "# Hasilnya\n",
        "jam_kerja_lisa = result.x[0]\n",
        "jam_kerja_muri = result.x[1]\n",
        "\n",
        "print(f\"Jam kerja Lisa: {jam_kerja_lisa} jam\")\n",
        "print(f\"Jam kerja Muri: {jam_kerja_muri} jam\")"
      ],
      "metadata": {
        "colab": {
          "base_uri": "https://localhost:8080/"
        },
        "id": "NTHIQzbG2sam",
        "outputId": "82b3ef14-3117-489b-ec4f-8a7f85873741"
      },
      "execution_count": 132,
      "outputs": [
        {
          "output_type": "stream",
          "name": "stdout",
          "text": [
            "Jam kerja Lisa: 9.000000000000002 jam\n",
            "Jam kerja Muri: 6.999999999999998 jam\n"
          ]
        }
      ]
    }
  ]
}