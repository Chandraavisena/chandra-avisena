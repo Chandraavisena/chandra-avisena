{
  "nbformat": 4,
  "nbformat_minor": 0,
  "metadata": {
    "colab": {
      "provenance": [],
      "authorship_tag": "ABX9TyMNPXgI+GLQwrp2qQMsbkl1",
      "include_colab_link": true
    },
    "kernelspec": {
      "name": "python3",
      "display_name": "Python 3"
    },
    "language_info": {
      "name": "python"
    }
  },
  "cells": [
    {
      "cell_type": "markdown",
      "metadata": {
        "id": "view-in-github",
        "colab_type": "text"
      },
      "source": [
        "<a href=\"https://colab.research.google.com/github/Chandraavisena/chandra-avisena/blob/main/jajargenjang.ipynb\" target=\"_parent\"><img src=\"https://colab.research.google.com/assets/colab-badge.svg\" alt=\"Open In Colab\"/></a>"
      ]
    },
    {
      "cell_type": "code",
      "execution_count": 1,
      "metadata": {
        "id": "D9ktJG6heayt",
        "colab": {
          "base_uri": "https://localhost:8080/"
        },
        "outputId": "56cd618e-84bc-40f1-df9f-b379d62d6034"
      },
      "outputs": [
        {
          "output_type": "stream",
          "name": "stdout",
          "text": [
            "Luas jajar genjang adalah: 15\n"
          ]
        }
      ],
      "source": [
        "panjang = 5\n",
        "tinggi = 3\n",
        "luas = panjang * tinggi\n",
        "\n",
        "print(\"Luas jajar genjang adalah:\", luas)"
      ]
    }
  ]
}